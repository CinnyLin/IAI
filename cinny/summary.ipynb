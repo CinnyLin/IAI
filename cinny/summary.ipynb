{
 "cells": [
  {
   "cell_type": "markdown",
   "metadata": {},
   "source": [
    "# Summary Statistics"
   ]
  },
  {
   "cell_type": "code",
   "execution_count": 2,
   "metadata": {},
   "outputs": [],
   "source": [
    "import pandas as pd"
   ]
  },
  {
   "cell_type": "code",
   "execution_count": 3,
   "metadata": {},
   "outputs": [],
   "source": [
    "df = pd.read_csv('df.csv')"
   ]
  },
  {
   "cell_type": "code",
   "execution_count": 7,
   "metadata": {},
   "outputs": [],
   "source": [
    "people = ['Eddie', 'Gogo', 'MrPink', 'MrWhite', 'MrBlue', 'Joe', 'ORen', 'MrBlonde', \n",
    "          'Hattori', 'MrOrange', 'MrBrown', 'Pluribus', 'Bill', 'Budd']\n",
    "\n",
    "games = [30, 106, 109, 108, 42, 40, 41, 43, 114, 112, 111, 53, 52, 110, 99, 50, 76, 100, 51, \n",
    "        103, 44, 75, 77, 113, 88, 64, 94, 98, 63, 96, 95, 60, 61, 45, 118, 97, 62, 78, \n",
    "        70, 73, 65, 117, 115, 89, 116, 71, 85, 86, 72, 83, 102, 104, 84, 101, 32, 33, \n",
    "        34, 91, 90, 93, 31, 35, 92, 107, 105, 87, 74]"
   ]
  },
  {
   "cell_type": "code",
   "execution_count": null,
   "metadata": {},
   "outputs": [],
   "source": []
  },
  {
   "cell_type": "markdown",
   "metadata": {},
   "source": [
    "## Count Total Hands\n",
    "- Total number of hands in one game\n",
    "- Total number of hands won"
   ]
  },
  {
   "cell_type": "markdown",
   "metadata": {},
   "source": [
    "### explore"
   ]
  },
  {
   "cell_type": "code",
   "execution_count": 9,
   "metadata": {},
   "outputs": [
    {
     "data": {
      "text/html": [
       "<div>\n",
       "<style scoped>\n",
       "    .dataframe tbody tr th:only-of-type {\n",
       "        vertical-align: middle;\n",
       "    }\n",
       "\n",
       "    .dataframe tbody tr th {\n",
       "        vertical-align: top;\n",
       "    }\n",
       "\n",
       "    .dataframe thead th {\n",
       "        text-align: right;\n",
       "    }\n",
       "</style>\n",
       "<table border=\"1\" class=\"dataframe\">\n",
       "  <thead>\n",
       "    <tr style=\"text-align: right;\">\n",
       "      <th></th>\n",
       "      <th>Unnamed: 0</th>\n",
       "      <th>player</th>\n",
       "      <th>game</th>\n",
       "      <th>hand</th>\n",
       "      <th>preflop_action</th>\n",
       "      <th>outcome</th>\n",
       "      <th>big_blind</th>\n",
       "      <th>small_blind</th>\n",
       "      <th>hole_cards</th>\n",
       "      <th>premium_hole</th>\n",
       "      <th>chen_rank</th>\n",
       "      <th>slansky_rank</th>\n",
       "      <th>start_stack</th>\n",
       "      <th>prev_outcome</th>\n",
       "      <th>prev_outcome_loss</th>\n",
       "      <th>preflop_fold</th>\n",
       "      <th>relative_start_stack</th>\n",
       "      <th>rank_start_stack</th>\n",
       "      <th>any_blind</th>\n",
       "    </tr>\n",
       "  </thead>\n",
       "  <tbody>\n",
       "    <tr>\n",
       "      <th>764</th>\n",
       "      <td>764</td>\n",
       "      <td>Pluribus</td>\n",
       "      <td>30</td>\n",
       "      <td>0</td>\n",
       "      <td>f</td>\n",
       "      <td>0.0</td>\n",
       "      <td>False</td>\n",
       "      <td>False</td>\n",
       "      <td>7cTc</td>\n",
       "      <td>False</td>\n",
       "      <td>5</td>\n",
       "      <td>9</td>\n",
       "      <td>0.0</td>\n",
       "      <td>NaN</td>\n",
       "      <td>False</td>\n",
       "      <td>True</td>\n",
       "      <td>NaN</td>\n",
       "      <td>6.0</td>\n",
       "      <td>False</td>\n",
       "    </tr>\n",
       "  </tbody>\n",
       "</table>\n",
       "</div>"
      ],
      "text/plain": [
       "     Unnamed: 0    player  game  hand preflop_action  outcome  big_blind  \\\n",
       "764         764  Pluribus    30     0              f      0.0      False   \n",
       "\n",
       "     small_blind hole_cards  premium_hole  chen_rank  slansky_rank  \\\n",
       "764        False       7cTc         False          5             9   \n",
       "\n",
       "     start_stack  prev_outcome  prev_outcome_loss  preflop_fold  \\\n",
       "764          0.0           NaN              False          True   \n",
       "\n",
       "     relative_start_stack  rank_start_stack  any_blind  \n",
       "764                   NaN               6.0      False  "
      ]
     },
     "execution_count": 9,
     "metadata": {},
     "output_type": "execute_result"
    }
   ],
   "source": [
    "df30 = df[df['game']==30]\n",
    "df30.head(1)"
   ]
  },
  {
   "cell_type": "code",
   "execution_count": 10,
   "metadata": {},
   "outputs": [
    {
     "data": {
      "text/html": [
       "<div>\n",
       "<style scoped>\n",
       "    .dataframe tbody tr th:only-of-type {\n",
       "        vertical-align: middle;\n",
       "    }\n",
       "\n",
       "    .dataframe tbody tr th {\n",
       "        vertical-align: top;\n",
       "    }\n",
       "\n",
       "    .dataframe thead th {\n",
       "        text-align: right;\n",
       "    }\n",
       "</style>\n",
       "<table border=\"1\" class=\"dataframe\">\n",
       "  <thead>\n",
       "    <tr style=\"text-align: right;\">\n",
       "      <th></th>\n",
       "      <th>Unnamed: 0</th>\n",
       "      <th>player</th>\n",
       "      <th>game</th>\n",
       "      <th>hand</th>\n",
       "      <th>preflop_action</th>\n",
       "      <th>outcome</th>\n",
       "      <th>big_blind</th>\n",
       "      <th>small_blind</th>\n",
       "      <th>hole_cards</th>\n",
       "      <th>premium_hole</th>\n",
       "      <th>chen_rank</th>\n",
       "      <th>slansky_rank</th>\n",
       "      <th>start_stack</th>\n",
       "      <th>prev_outcome</th>\n",
       "      <th>prev_outcome_loss</th>\n",
       "      <th>preflop_fold</th>\n",
       "      <th>relative_start_stack</th>\n",
       "      <th>rank_start_stack</th>\n",
       "      <th>any_blind</th>\n",
       "    </tr>\n",
       "  </thead>\n",
       "  <tbody>\n",
       "    <tr>\n",
       "      <th>29450</th>\n",
       "      <td>29450</td>\n",
       "      <td>Eddie</td>\n",
       "      <td>30</td>\n",
       "      <td>0</td>\n",
       "      <td>f</td>\n",
       "      <td>0.0</td>\n",
       "      <td>False</td>\n",
       "      <td>False</td>\n",
       "      <td>2sQs</td>\n",
       "      <td>False</td>\n",
       "      <td>4</td>\n",
       "      <td>9</td>\n",
       "      <td>0.0</td>\n",
       "      <td>NaN</td>\n",
       "      <td>False</td>\n",
       "      <td>True</td>\n",
       "      <td>NaN</td>\n",
       "      <td>6.0</td>\n",
       "      <td>False</td>\n",
       "    </tr>\n",
       "  </tbody>\n",
       "</table>\n",
       "</div>"
      ],
      "text/plain": [
       "       Unnamed: 0 player  game  hand preflop_action  outcome  big_blind  \\\n",
       "29450       29450  Eddie    30     0              f      0.0      False   \n",
       "\n",
       "       small_blind hole_cards  premium_hole  chen_rank  slansky_rank  \\\n",
       "29450        False       2sQs         False          4             9   \n",
       "\n",
       "       start_stack  prev_outcome  prev_outcome_loss  preflop_fold  \\\n",
       "29450          0.0           NaN              False          True   \n",
       "\n",
       "       relative_start_stack  rank_start_stack  any_blind  \n",
       "29450                   NaN               6.0      False  "
      ]
     },
     "execution_count": 10,
     "metadata": {},
     "output_type": "execute_result"
    }
   ],
   "source": [
    "df30Eddie = df30[df30['player']=='Eddie']\n",
    "df30Eddie.head(1)"
   ]
  },
  {
   "cell_type": "code",
   "execution_count": 11,
   "metadata": {},
   "outputs": [
    {
     "data": {
      "text/plain": [
       "(27, 19)"
      ]
     },
     "execution_count": 11,
     "metadata": {},
     "output_type": "execute_result"
    }
   ],
   "source": [
    "df30Eddie_hand = df30Eddie[df30Eddie['preflop_action']!='f']\n",
    "df30Eddie_hand.shape"
   ]
  },
  {
   "cell_type": "code",
   "execution_count": 12,
   "metadata": {},
   "outputs": [
    {
     "data": {
      "text/plain": [
       "(16, 19)"
      ]
     },
     "execution_count": 12,
     "metadata": {},
     "output_type": "execute_result"
    }
   ],
   "source": [
    "df30Eddie_won = df30Eddie[df30Eddie['outcome']>0]\n",
    "df30Eddie_won.shape"
   ]
  },
  {
   "cell_type": "code",
   "execution_count": null,
   "metadata": {},
   "outputs": [],
   "source": []
  },
  {
   "cell_type": "markdown",
   "metadata": {},
   "source": [
    "### loop"
   ]
  },
  {
   "cell_type": "code",
   "execution_count": 5,
   "metadata": {},
   "outputs": [],
   "source": [
    "data = []\n",
    "# loop people\n",
    "for player in people:\n",
    "  # loop games\n",
    "  for game in games:\n",
    "    # extract df\n",
    "    df_player_game = df[(df['game']==game) & (df['player']==player)]\n",
    "    # get variables\n",
    "    total_hands = df_player_game[df_player_game['preflop_action']!='f'].shape[0]\n",
    "    total_hands_won = df_player_game[df_player_game['outcome']>0].shape[0]\n",
    "    # create new df\n",
    "    entry = []\n",
    "    entry.append([player, game, total_hands, total_hands_won])\n",
    "    data.extend(entry)"
   ]
  },
  {
   "cell_type": "code",
   "execution_count": 5,
   "metadata": {},
   "outputs": [],
   "source": [
    "#data"
   ]
  },
  {
   "cell_type": "code",
   "execution_count": 6,
   "metadata": {},
   "outputs": [
    {
     "data": {
      "text/html": [
       "<div>\n",
       "<style scoped>\n",
       "    .dataframe tbody tr th:only-of-type {\n",
       "        vertical-align: middle;\n",
       "    }\n",
       "\n",
       "    .dataframe tbody tr th {\n",
       "        vertical-align: top;\n",
       "    }\n",
       "\n",
       "    .dataframe thead th {\n",
       "        text-align: right;\n",
       "    }\n",
       "</style>\n",
       "<table border=\"1\" class=\"dataframe\">\n",
       "  <thead>\n",
       "    <tr style=\"text-align: right;\">\n",
       "      <th></th>\n",
       "      <th>player</th>\n",
       "      <th>game</th>\n",
       "      <th>total_hands</th>\n",
       "      <th>total_hands_won</th>\n",
       "    </tr>\n",
       "  </thead>\n",
       "  <tbody>\n",
       "    <tr>\n",
       "      <th>0</th>\n",
       "      <td>Eddie</td>\n",
       "      <td>30</td>\n",
       "      <td>27</td>\n",
       "      <td>16</td>\n",
       "    </tr>\n",
       "    <tr>\n",
       "      <th>1</th>\n",
       "      <td>Eddie</td>\n",
       "      <td>106</td>\n",
       "      <td>0</td>\n",
       "      <td>0</td>\n",
       "    </tr>\n",
       "    <tr>\n",
       "      <th>2</th>\n",
       "      <td>Eddie</td>\n",
       "      <td>109</td>\n",
       "      <td>0</td>\n",
       "      <td>0</td>\n",
       "    </tr>\n",
       "    <tr>\n",
       "      <th>3</th>\n",
       "      <td>Eddie</td>\n",
       "      <td>108</td>\n",
       "      <td>0</td>\n",
       "      <td>0</td>\n",
       "    </tr>\n",
       "    <tr>\n",
       "      <th>4</th>\n",
       "      <td>Eddie</td>\n",
       "      <td>42</td>\n",
       "      <td>31</td>\n",
       "      <td>20</td>\n",
       "    </tr>\n",
       "    <tr>\n",
       "      <th>...</th>\n",
       "      <td>...</td>\n",
       "      <td>...</td>\n",
       "      <td>...</td>\n",
       "      <td>...</td>\n",
       "    </tr>\n",
       "    <tr>\n",
       "      <th>933</th>\n",
       "      <td>Budd</td>\n",
       "      <td>92</td>\n",
       "      <td>19</td>\n",
       "      <td>11</td>\n",
       "    </tr>\n",
       "    <tr>\n",
       "      <th>934</th>\n",
       "      <td>Budd</td>\n",
       "      <td>107</td>\n",
       "      <td>0</td>\n",
       "      <td>0</td>\n",
       "    </tr>\n",
       "    <tr>\n",
       "      <th>935</th>\n",
       "      <td>Budd</td>\n",
       "      <td>105</td>\n",
       "      <td>0</td>\n",
       "      <td>0</td>\n",
       "    </tr>\n",
       "    <tr>\n",
       "      <th>936</th>\n",
       "      <td>Budd</td>\n",
       "      <td>87</td>\n",
       "      <td>0</td>\n",
       "      <td>0</td>\n",
       "    </tr>\n",
       "    <tr>\n",
       "      <th>937</th>\n",
       "      <td>Budd</td>\n",
       "      <td>74</td>\n",
       "      <td>7</td>\n",
       "      <td>5</td>\n",
       "    </tr>\n",
       "  </tbody>\n",
       "</table>\n",
       "<p>938 rows × 4 columns</p>\n",
       "</div>"
      ],
      "text/plain": [
       "    player  game  total_hands  total_hands_won\n",
       "0    Eddie    30           27               16\n",
       "1    Eddie   106            0                0\n",
       "2    Eddie   109            0                0\n",
       "3    Eddie   108            0                0\n",
       "4    Eddie    42           31               20\n",
       "..     ...   ...          ...              ...\n",
       "933   Budd    92           19               11\n",
       "934   Budd   107            0                0\n",
       "935   Budd   105            0                0\n",
       "936   Budd    87            0                0\n",
       "937   Budd    74            7                5\n",
       "\n",
       "[938 rows x 4 columns]"
      ]
     },
     "execution_count": 6,
     "metadata": {},
     "output_type": "execute_result"
    }
   ],
   "source": [
    "DF = pd.DataFrame(data, columns=['player', 'game', 'total_hands', 'total_hands_won'])\n",
    "DF.head()"
   ]
  },
  {
   "cell_type": "code",
   "execution_count": 23,
   "metadata": {},
   "outputs": [],
   "source": [
    "#DF.to_csv('total_number_of_hands.csv')"
   ]
  },
  {
   "cell_type": "code",
   "execution_count": null,
   "metadata": {},
   "outputs": [],
   "source": []
  },
  {
   "cell_type": "code",
   "execution_count": null,
   "metadata": {},
   "outputs": [],
   "source": []
  },
  {
   "cell_type": "markdown",
   "metadata": {},
   "source": [
    "## Hands\n",
    "- Average number of hands per game\n",
    "- Median number of hands per game\n",
    "- Minimum number of hands\n",
    "- Maximum number of hands"
   ]
  },
  {
   "cell_type": "markdown",
   "metadata": {},
   "source": [
    "### explore"
   ]
  },
  {
   "cell_type": "code",
   "execution_count": 17,
   "metadata": {},
   "outputs": [
    {
     "data": {
      "text/html": [
       "<div>\n",
       "<style scoped>\n",
       "    .dataframe tbody tr th:only-of-type {\n",
       "        vertical-align: middle;\n",
       "    }\n",
       "\n",
       "    .dataframe tbody tr th {\n",
       "        vertical-align: top;\n",
       "    }\n",
       "\n",
       "    .dataframe thead th {\n",
       "        text-align: right;\n",
       "    }\n",
       "</style>\n",
       "<table border=\"1\" class=\"dataframe\">\n",
       "  <thead>\n",
       "    <tr style=\"text-align: right;\">\n",
       "      <th></th>\n",
       "      <th>game</th>\n",
       "      <th>total_hands</th>\n",
       "      <th>total_hands_won</th>\n",
       "    </tr>\n",
       "  </thead>\n",
       "  <tbody>\n",
       "    <tr>\n",
       "      <th>count</th>\n",
       "      <td>39.000000</td>\n",
       "      <td>39.000000</td>\n",
       "      <td>39.000000</td>\n",
       "    </tr>\n",
       "    <tr>\n",
       "      <th>mean</th>\n",
       "      <td>66.923077</td>\n",
       "      <td>41.358974</td>\n",
       "      <td>24.589744</td>\n",
       "    </tr>\n",
       "    <tr>\n",
       "      <th>std</th>\n",
       "      <td>26.566089</td>\n",
       "      <td>13.991515</td>\n",
       "      <td>8.768118</td>\n",
       "    </tr>\n",
       "    <tr>\n",
       "      <th>min</th>\n",
       "      <td>30.000000</td>\n",
       "      <td>11.000000</td>\n",
       "      <td>3.000000</td>\n",
       "    </tr>\n",
       "    <tr>\n",
       "      <th>25%</th>\n",
       "      <td>43.500000</td>\n",
       "      <td>30.000000</td>\n",
       "      <td>19.500000</td>\n",
       "    </tr>\n",
       "    <tr>\n",
       "      <th>50%</th>\n",
       "      <td>63.000000</td>\n",
       "      <td>46.000000</td>\n",
       "      <td>25.000000</td>\n",
       "    </tr>\n",
       "    <tr>\n",
       "      <th>75%</th>\n",
       "      <td>91.500000</td>\n",
       "      <td>53.000000</td>\n",
       "      <td>30.000000</td>\n",
       "    </tr>\n",
       "    <tr>\n",
       "      <th>max</th>\n",
       "      <td>114.000000</td>\n",
       "      <td>65.000000</td>\n",
       "      <td>39.000000</td>\n",
       "    </tr>\n",
       "  </tbody>\n",
       "</table>\n",
       "</div>"
      ],
      "text/plain": [
       "             game  total_hands  total_hands_won\n",
       "count   39.000000    39.000000        39.000000\n",
       "mean    66.923077    41.358974        24.589744\n",
       "std     26.566089    13.991515         8.768118\n",
       "min     30.000000    11.000000         3.000000\n",
       "25%     43.500000    30.000000        19.500000\n",
       "50%     63.000000    46.000000        25.000000\n",
       "75%     91.500000    53.000000        30.000000\n",
       "max    114.000000    65.000000        39.000000"
      ]
     },
     "execution_count": 17,
     "metadata": {},
     "output_type": "execute_result"
    }
   ],
   "source": [
    "DF[(DF['player']=='Eddie') & (DF['total_hands']!=0)].describe()"
   ]
  },
  {
   "cell_type": "code",
   "execution_count": null,
   "metadata": {},
   "outputs": [],
   "source": []
  },
  {
   "cell_type": "markdown",
   "metadata": {},
   "source": [
    "### loop"
   ]
  },
  {
   "cell_type": "code",
   "execution_count": 25,
   "metadata": {},
   "outputs": [],
   "source": [
    "data_hand = []\n",
    "# loop people\n",
    "for player in people:\n",
    "    # extract df\n",
    "    DF_player_game = DF[(DF['player']==player) & (DF['total_hands']!=0)]\n",
    "    # get variables\n",
    "    summary = DF_player_game.describe()\n",
    "    average_hands_per_game = round(summary['total_hands']['mean'],2)\n",
    "    median_hands_per_game = summary['total_hands']['50%']\n",
    "    min_hands_per_game = summary['total_hands']['min']\n",
    "    max_hands_per_game = summary['total_hands']['max']\n",
    "    # create df\n",
    "    entry = []\n",
    "    entry.append([player,\n",
    "                  average_hands_per_game, median_hands_per_game, \n",
    "                  min_hands_per_game, max_hands_per_game])\n",
    "    data_hand.extend(entry)"
   ]
  },
  {
   "cell_type": "code",
   "execution_count": 29,
   "metadata": {},
   "outputs": [],
   "source": [
    "#data_hand"
   ]
  },
  {
   "cell_type": "code",
   "execution_count": 30,
   "metadata": {},
   "outputs": [
    {
     "data": {
      "text/html": [
       "<div>\n",
       "<style scoped>\n",
       "    .dataframe tbody tr th:only-of-type {\n",
       "        vertical-align: middle;\n",
       "    }\n",
       "\n",
       "    .dataframe tbody tr th {\n",
       "        vertical-align: top;\n",
       "    }\n",
       "\n",
       "    .dataframe thead th {\n",
       "        text-align: right;\n",
       "    }\n",
       "</style>\n",
       "<table border=\"1\" class=\"dataframe\">\n",
       "  <thead>\n",
       "    <tr style=\"text-align: right;\">\n",
       "      <th></th>\n",
       "      <th>player</th>\n",
       "      <th>average</th>\n",
       "      <th>median</th>\n",
       "      <th>min</th>\n",
       "      <th>max</th>\n",
       "    </tr>\n",
       "  </thead>\n",
       "  <tbody>\n",
       "    <tr>\n",
       "      <th>0</th>\n",
       "      <td>Eddie</td>\n",
       "      <td>41.36</td>\n",
       "      <td>46.0</td>\n",
       "      <td>11.0</td>\n",
       "      <td>65.0</td>\n",
       "    </tr>\n",
       "    <tr>\n",
       "      <th>1</th>\n",
       "      <td>Gogo</td>\n",
       "      <td>27.33</td>\n",
       "      <td>27.5</td>\n",
       "      <td>22.0</td>\n",
       "      <td>31.0</td>\n",
       "    </tr>\n",
       "    <tr>\n",
       "      <th>2</th>\n",
       "      <td>MrPink</td>\n",
       "      <td>42.98</td>\n",
       "      <td>44.0</td>\n",
       "      <td>12.0</td>\n",
       "      <td>83.0</td>\n",
       "    </tr>\n",
       "    <tr>\n",
       "      <th>3</th>\n",
       "      <td>MrWhite</td>\n",
       "      <td>30.71</td>\n",
       "      <td>25.0</td>\n",
       "      <td>7.0</td>\n",
       "      <td>83.0</td>\n",
       "    </tr>\n",
       "    <tr>\n",
       "      <th>4</th>\n",
       "      <td>MrBlue</td>\n",
       "      <td>51.05</td>\n",
       "      <td>52.0</td>\n",
       "      <td>8.0</td>\n",
       "      <td>94.0</td>\n",
       "    </tr>\n",
       "  </tbody>\n",
       "</table>\n",
       "</div>"
      ],
      "text/plain": [
       "    player  average  median   min   max\n",
       "0    Eddie    41.36    46.0  11.0  65.0\n",
       "1     Gogo    27.33    27.5  22.0  31.0\n",
       "2   MrPink    42.98    44.0  12.0  83.0\n",
       "3  MrWhite    30.71    25.0   7.0  83.0\n",
       "4   MrBlue    51.05    52.0   8.0  94.0"
      ]
     },
     "execution_count": 30,
     "metadata": {},
     "output_type": "execute_result"
    }
   ],
   "source": [
    "df_hand = pd.DataFrame(data_hand, columns=['player', 'average', 'median', 'min', 'max'])\n",
    "df_hand.head()"
   ]
  },
  {
   "cell_type": "code",
   "execution_count": 31,
   "metadata": {},
   "outputs": [],
   "source": [
    "#df_hand.to_csv('player_hands.csv')"
   ]
  },
  {
   "cell_type": "code",
   "execution_count": null,
   "metadata": {},
   "outputs": [],
   "source": []
  },
  {
   "cell_type": "code",
   "execution_count": null,
   "metadata": {},
   "outputs": [],
   "source": []
  }
 ],
 "metadata": {
  "kernelspec": {
   "display_name": "Python 3.8.1 64-bit",
   "language": "python",
   "name": "python38164bit0209044da7c742dab8314e0953beb93b"
  },
  "language_info": {
   "codemirror_mode": {
    "name": "ipython",
    "version": 3
   },
   "file_extension": ".py",
   "mimetype": "text/x-python",
   "name": "python",
   "nbconvert_exporter": "python",
   "pygments_lexer": "ipython3",
   "version": "3.8.1"
  }
 },
 "nbformat": 4,
 "nbformat_minor": 4
}
