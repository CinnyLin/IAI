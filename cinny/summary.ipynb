{
 "cells": [
  {
   "cell_type": "markdown",
   "metadata": {},
   "source": [
    "# Summary Statistics"
   ]
  },
  {
   "cell_type": "code",
   "execution_count": 1,
   "metadata": {},
   "outputs": [],
   "source": [
    "import pandas as pd"
   ]
  },
  {
   "cell_type": "code",
   "execution_count": 2,
   "metadata": {},
   "outputs": [],
   "source": [
    "df = pd.read_csv('df.csv')"
   ]
  },
  {
   "cell_type": "code",
   "execution_count": 3,
   "metadata": {},
   "outputs": [],
   "source": [
    "people = ['Eddie', 'Gogo', 'MrPink', 'MrWhite', 'MrBlue', 'Joe', 'ORen', 'MrBlonde', \n",
    "          'Hattori', 'MrOrange', 'MrBrown', 'Pluribus', 'Bill', 'Budd']\n",
    "\n",
    "games = [30, 31, 32, 33, 34, 35, 40, 41, 42, 43, 44, 45, 50, 51, 52, 53, 60, 61, 62, 63, 64, 65, \n",
    "         70, 71, 72, 73, 74, 75, 76, 77, 78, 83, 84, 85, 86, 87, 88, 89, 90, 91, 92, 93, 94, 95, \n",
    "         96, 97, 98, 99, 100, 101, 102, 103, 104, 105, 106, 107, 108, 109, 110, 111, 112, 113, \n",
    "         114, 115, 116, 117, 118]"
   ]
  },
  {
   "cell_type": "code",
   "execution_count": 4,
   "metadata": {},
   "outputs": [
    {
     "output_type": "execute_result",
     "data": {
      "text/plain": [
       "14"
      ]
     },
     "metadata": {},
     "execution_count": 4
    }
   ],
   "source": [
    "len(people)"
   ]
  },
  {
   "cell_type": "code",
   "execution_count": 5,
   "metadata": {},
   "outputs": [
    {
     "output_type": "execute_result",
     "data": {
      "text/plain": [
       "67"
      ]
     },
     "metadata": {},
     "execution_count": 5
    }
   ],
   "source": [
    "len(games)"
   ]
  },
  {
   "cell_type": "code",
   "execution_count": null,
   "metadata": {},
   "outputs": [],
   "source": []
  },
  {
   "cell_type": "markdown",
   "metadata": {},
   "source": [
    "## Count Total Hands\n",
    "- Total number of hands in one game\n",
    "- Total number of hands won"
   ]
  },
  {
   "cell_type": "markdown",
   "metadata": {},
   "source": [
    "### explore"
   ]
  },
  {
   "cell_type": "code",
   "execution_count": 6,
   "metadata": {},
   "outputs": [
    {
     "output_type": "execute_result",
     "data": {
      "text/plain": [
       "      Unnamed: 0 player  game  hand preflop_action  outcome  big_blind  \\\n",
       "8679        8679   Bill    30     0              r    150.0      False   \n",
       "\n",
       "      small_blind hole_cards  premium_hole  chen_rank  slansky_rank  \\\n",
       "8679        False       AdKd          True         12             1   \n",
       "\n",
       "      start_stack  prev_outcome  prev_outcome_loss  preflop_fold  \\\n",
       "8679          0.0           NaN              False         False   \n",
       "\n",
       "      relative_start_stack  rank_start_stack  any_blind  \n",
       "8679                   NaN               6.0      False  "
      ],
      "text/html": "<div>\n<style scoped>\n    .dataframe tbody tr th:only-of-type {\n        vertical-align: middle;\n    }\n\n    .dataframe tbody tr th {\n        vertical-align: top;\n    }\n\n    .dataframe thead th {\n        text-align: right;\n    }\n</style>\n<table border=\"1\" class=\"dataframe\">\n  <thead>\n    <tr style=\"text-align: right;\">\n      <th></th>\n      <th>Unnamed: 0</th>\n      <th>player</th>\n      <th>game</th>\n      <th>hand</th>\n      <th>preflop_action</th>\n      <th>outcome</th>\n      <th>big_blind</th>\n      <th>small_blind</th>\n      <th>hole_cards</th>\n      <th>premium_hole</th>\n      <th>chen_rank</th>\n      <th>slansky_rank</th>\n      <th>start_stack</th>\n      <th>prev_outcome</th>\n      <th>prev_outcome_loss</th>\n      <th>preflop_fold</th>\n      <th>relative_start_stack</th>\n      <th>rank_start_stack</th>\n      <th>any_blind</th>\n    </tr>\n  </thead>\n  <tbody>\n    <tr>\n      <th>8679</th>\n      <td>8679</td>\n      <td>Bill</td>\n      <td>30</td>\n      <td>0</td>\n      <td>r</td>\n      <td>150.0</td>\n      <td>False</td>\n      <td>False</td>\n      <td>AdKd</td>\n      <td>True</td>\n      <td>12</td>\n      <td>1</td>\n      <td>0.0</td>\n      <td>NaN</td>\n      <td>False</td>\n      <td>False</td>\n      <td>NaN</td>\n      <td>6.0</td>\n      <td>False</td>\n    </tr>\n  </tbody>\n</table>\n</div>"
     },
     "metadata": {},
     "execution_count": 6
    }
   ],
   "source": [
    "df30 = df[df['game']==30]\n",
    "df30.head(1)"
   ]
  },
  {
   "cell_type": "code",
   "execution_count": 7,
   "metadata": {},
   "outputs": [
    {
     "output_type": "execute_result",
     "data": {
      "text/plain": [
       "       Unnamed: 0 player  game  hand preflop_action  outcome  big_blind  \\\n",
       "51110       51110  Eddie    30     0              f      0.0      False   \n",
       "51111       51111  Eddie    30     1              f      0.0      False   \n",
       "51112       51112  Eddie    30     2              c    250.0       True   \n",
       "51113       51113  Eddie    30     3              f    -50.0      False   \n",
       "51114       51114  Eddie    30     4              r    375.0      False   \n",
       "...           ...    ...   ...   ...            ...      ...        ...   \n",
       "51184       51184  Eddie    30    74              c    900.0       True   \n",
       "51185       51185  Eddie    30    75              f    -50.0      False   \n",
       "51186       51186  Eddie    30    76              f      0.0      False   \n",
       "51187       51187  Eddie    30    77              r    587.0      False   \n",
       "51188       51188  Eddie    30    78              f      0.0      False   \n",
       "\n",
       "       small_blind hole_cards  premium_hole  chen_rank  slansky_rank  \\\n",
       "51110        False       2sQs         False          4             9   \n",
       "51111        False       7dTs         False          3             9   \n",
       "51112        False       Jc4c         False          3             9   \n",
       "51113         True       JhKh          True          9             3   \n",
       "51114        False       TdAh         False          6             6   \n",
       "...            ...        ...           ...        ...           ...   \n",
       "51184        False       As8s         False          7             5   \n",
       "51185         True       6dTs         False          1             9   \n",
       "51186        False       4h3h         False          5             7   \n",
       "51187        False       Ad2d         False          7             5   \n",
       "51188        False       Js7d         False          2             9   \n",
       "\n",
       "       start_stack  prev_outcome  prev_outcome_loss  preflop_fold  \\\n",
       "51110          0.0           NaN              False          True   \n",
       "51111          0.0           0.0              False          True   \n",
       "51112          0.0           0.0              False         False   \n",
       "51113        250.0         250.0              False          True   \n",
       "51114        200.0         -50.0               True         False   \n",
       "...            ...           ...                ...           ...   \n",
       "51184       2809.0         150.0              False         False   \n",
       "51185       3709.0         900.0              False          True   \n",
       "51186       3659.0         -50.0               True          True   \n",
       "51187       3659.0           0.0              False         False   \n",
       "51188       4246.0         587.0              False          True   \n",
       "\n",
       "       relative_start_stack  rank_start_stack  any_blind  \n",
       "51110                   NaN               6.0      False  \n",
       "51111              0.000000               4.0      False  \n",
       "51112              0.000000               4.0       True  \n",
       "51113              1.000000               1.0       True  \n",
       "51114              0.097561               2.0      False  \n",
       "...                     ...               ...        ...  \n",
       "51184              0.244261               2.0       True  \n",
       "51185              0.323930               2.0       True  \n",
       "51186              0.315431               2.0      False  \n",
       "51187              0.315431               2.0      False  \n",
       "51188              0.366034               2.0      False  \n",
       "\n",
       "[79 rows x 19 columns]"
      ],
      "text/html": "<div>\n<style scoped>\n    .dataframe tbody tr th:only-of-type {\n        vertical-align: middle;\n    }\n\n    .dataframe tbody tr th {\n        vertical-align: top;\n    }\n\n    .dataframe thead th {\n        text-align: right;\n    }\n</style>\n<table border=\"1\" class=\"dataframe\">\n  <thead>\n    <tr style=\"text-align: right;\">\n      <th></th>\n      <th>Unnamed: 0</th>\n      <th>player</th>\n      <th>game</th>\n      <th>hand</th>\n      <th>preflop_action</th>\n      <th>outcome</th>\n      <th>big_blind</th>\n      <th>small_blind</th>\n      <th>hole_cards</th>\n      <th>premium_hole</th>\n      <th>chen_rank</th>\n      <th>slansky_rank</th>\n      <th>start_stack</th>\n      <th>prev_outcome</th>\n      <th>prev_outcome_loss</th>\n      <th>preflop_fold</th>\n      <th>relative_start_stack</th>\n      <th>rank_start_stack</th>\n      <th>any_blind</th>\n    </tr>\n  </thead>\n  <tbody>\n    <tr>\n      <th>51110</th>\n      <td>51110</td>\n      <td>Eddie</td>\n      <td>30</td>\n      <td>0</td>\n      <td>f</td>\n      <td>0.0</td>\n      <td>False</td>\n      <td>False</td>\n      <td>2sQs</td>\n      <td>False</td>\n      <td>4</td>\n      <td>9</td>\n      <td>0.0</td>\n      <td>NaN</td>\n      <td>False</td>\n      <td>True</td>\n      <td>NaN</td>\n      <td>6.0</td>\n      <td>False</td>\n    </tr>\n    <tr>\n      <th>51111</th>\n      <td>51111</td>\n      <td>Eddie</td>\n      <td>30</td>\n      <td>1</td>\n      <td>f</td>\n      <td>0.0</td>\n      <td>False</td>\n      <td>False</td>\n      <td>7dTs</td>\n      <td>False</td>\n      <td>3</td>\n      <td>9</td>\n      <td>0.0</td>\n      <td>0.0</td>\n      <td>False</td>\n      <td>True</td>\n      <td>0.000000</td>\n      <td>4.0</td>\n      <td>False</td>\n    </tr>\n    <tr>\n      <th>51112</th>\n      <td>51112</td>\n      <td>Eddie</td>\n      <td>30</td>\n      <td>2</td>\n      <td>c</td>\n      <td>250.0</td>\n      <td>True</td>\n      <td>False</td>\n      <td>Jc4c</td>\n      <td>False</td>\n      <td>3</td>\n      <td>9</td>\n      <td>0.0</td>\n      <td>0.0</td>\n      <td>False</td>\n      <td>False</td>\n      <td>0.000000</td>\n      <td>4.0</td>\n      <td>True</td>\n    </tr>\n    <tr>\n      <th>51113</th>\n      <td>51113</td>\n      <td>Eddie</td>\n      <td>30</td>\n      <td>3</td>\n      <td>f</td>\n      <td>-50.0</td>\n      <td>False</td>\n      <td>True</td>\n      <td>JhKh</td>\n      <td>True</td>\n      <td>9</td>\n      <td>3</td>\n      <td>250.0</td>\n      <td>250.0</td>\n      <td>False</td>\n      <td>True</td>\n      <td>1.000000</td>\n      <td>1.0</td>\n      <td>True</td>\n    </tr>\n    <tr>\n      <th>51114</th>\n      <td>51114</td>\n      <td>Eddie</td>\n      <td>30</td>\n      <td>4</td>\n      <td>r</td>\n      <td>375.0</td>\n      <td>False</td>\n      <td>False</td>\n      <td>TdAh</td>\n      <td>False</td>\n      <td>6</td>\n      <td>6</td>\n      <td>200.0</td>\n      <td>-50.0</td>\n      <td>True</td>\n      <td>False</td>\n      <td>0.097561</td>\n      <td>2.0</td>\n      <td>False</td>\n    </tr>\n    <tr>\n      <th>...</th>\n      <td>...</td>\n      <td>...</td>\n      <td>...</td>\n      <td>...</td>\n      <td>...</td>\n      <td>...</td>\n      <td>...</td>\n      <td>...</td>\n      <td>...</td>\n      <td>...</td>\n      <td>...</td>\n      <td>...</td>\n      <td>...</td>\n      <td>...</td>\n      <td>...</td>\n      <td>...</td>\n      <td>...</td>\n      <td>...</td>\n      <td>...</td>\n    </tr>\n    <tr>\n      <th>51184</th>\n      <td>51184</td>\n      <td>Eddie</td>\n      <td>30</td>\n      <td>74</td>\n      <td>c</td>\n      <td>900.0</td>\n      <td>True</td>\n      <td>False</td>\n      <td>As8s</td>\n      <td>False</td>\n      <td>7</td>\n      <td>5</td>\n      <td>2809.0</td>\n      <td>150.0</td>\n      <td>False</td>\n      <td>False</td>\n      <td>0.244261</td>\n      <td>2.0</td>\n      <td>True</td>\n    </tr>\n    <tr>\n      <th>51185</th>\n      <td>51185</td>\n      <td>Eddie</td>\n      <td>30</td>\n      <td>75</td>\n      <td>f</td>\n      <td>-50.0</td>\n      <td>False</td>\n      <td>True</td>\n      <td>6dTs</td>\n      <td>False</td>\n      <td>1</td>\n      <td>9</td>\n      <td>3709.0</td>\n      <td>900.0</td>\n      <td>False</td>\n      <td>True</td>\n      <td>0.323930</td>\n      <td>2.0</td>\n      <td>True</td>\n    </tr>\n    <tr>\n      <th>51186</th>\n      <td>51186</td>\n      <td>Eddie</td>\n      <td>30</td>\n      <td>76</td>\n      <td>f</td>\n      <td>0.0</td>\n      <td>False</td>\n      <td>False</td>\n      <td>4h3h</td>\n      <td>False</td>\n      <td>5</td>\n      <td>7</td>\n      <td>3659.0</td>\n      <td>-50.0</td>\n      <td>True</td>\n      <td>True</td>\n      <td>0.315431</td>\n      <td>2.0</td>\n      <td>False</td>\n    </tr>\n    <tr>\n      <th>51187</th>\n      <td>51187</td>\n      <td>Eddie</td>\n      <td>30</td>\n      <td>77</td>\n      <td>r</td>\n      <td>587.0</td>\n      <td>False</td>\n      <td>False</td>\n      <td>Ad2d</td>\n      <td>False</td>\n      <td>7</td>\n      <td>5</td>\n      <td>3659.0</td>\n      <td>0.0</td>\n      <td>False</td>\n      <td>False</td>\n      <td>0.315431</td>\n      <td>2.0</td>\n      <td>False</td>\n    </tr>\n    <tr>\n      <th>51188</th>\n      <td>51188</td>\n      <td>Eddie</td>\n      <td>30</td>\n      <td>78</td>\n      <td>f</td>\n      <td>0.0</td>\n      <td>False</td>\n      <td>False</td>\n      <td>Js7d</td>\n      <td>False</td>\n      <td>2</td>\n      <td>9</td>\n      <td>4246.0</td>\n      <td>587.0</td>\n      <td>False</td>\n      <td>True</td>\n      <td>0.366034</td>\n      <td>2.0</td>\n      <td>False</td>\n    </tr>\n  </tbody>\n</table>\n<p>79 rows × 19 columns</p>\n</div>"
     },
     "metadata": {},
     "execution_count": 7
    }
   ],
   "source": [
    "df30Eddie = df30[df30['player']=='Eddie']\n",
    "df30Eddie"
   ]
  },
  {
   "cell_type": "code",
   "execution_count": 8,
   "metadata": {},
   "outputs": [
    {
     "output_type": "execute_result",
     "data": {
      "text/plain": [
       "Index(['Unnamed: 0', 'player', 'game', 'hand', 'preflop_action', 'outcome',\n",
       "       'big_blind', 'small_blind', 'hole_cards', 'premium_hole', 'chen_rank',\n",
       "       'slansky_rank', 'start_stack', 'prev_outcome', 'prev_outcome_loss',\n",
       "       'preflop_fold', 'relative_start_stack', 'rank_start_stack',\n",
       "       'any_blind'],\n",
       "      dtype='object')"
      ]
     },
     "metadata": {},
     "execution_count": 8
    }
   ],
   "source": [
    "df30.columns"
   ]
  },
  {
   "cell_type": "code",
   "execution_count": null,
   "metadata": {},
   "outputs": [],
   "source": []
  },
  {
   "cell_type": "code",
   "execution_count": 9,
   "metadata": {},
   "outputs": [
    {
     "output_type": "execute_result",
     "data": {
      "text/plain": [
       "(16, 19)"
      ]
     },
     "metadata": {},
     "execution_count": 9
    }
   ],
   "source": [
    "# won this hand\n",
    "df30Eddie_won = df30Eddie[df30Eddie['prev_outcome']>0]\n",
    "df30Eddie_won.shape"
   ]
  },
  {
   "cell_type": "code",
   "execution_count": 10,
   "metadata": {},
   "outputs": [
    {
     "output_type": "execute_result",
     "data": {
      "text/plain": [
       "          Unnamed: 0  game  hand  outcome  big_blind  small_blind  \\\n",
       "player                                                              \n",
       "Bill          688722  2370  3081   -609.0       13.0         13.0   \n",
       "Budd         2318492  2370  3081  11600.0       13.0         13.0   \n",
       "Eddie        4040771  2370  3081   4246.0       13.0         13.0   \n",
       "Gogo         4002693  2370  3081  -6612.0       14.0         13.0   \n",
       "MrWhite      1215336  2370  3081  -1462.0       13.0         14.0   \n",
       "Pluribus     2570186  2370  3081  -7163.0       13.0         13.0   \n",
       "\n",
       "          premium_hole  chen_rank  slansky_rank  start_stack  prev_outcome  \\\n",
       "player                                                                       \n",
       "Bill              14.0        398           536     -51521.0        -609.0   \n",
       "Budd               4.0        306           618     697250.0       11600.0   \n",
       "Eddie              6.0        340           596     108458.0        4246.0   \n",
       "Gogo               6.0        285           623    -385722.0       -6512.0   \n",
       "MrWhite            6.0        276           623      42663.0       -1412.0   \n",
       "Pluribus           2.0        340           594    -411128.0       -7313.0   \n",
       "\n",
       "          prev_outcome_loss  preflop_fold  relative_start_stack  \\\n",
       "player                                                            \n",
       "Bill                   26.0          49.0             -7.382892   \n",
       "Budd                   23.0          59.0             73.733333   \n",
       "Eddie                  26.0          52.0             12.176912   \n",
       "Gogo                   28.0          57.0            -50.935599   \n",
       "MrWhite                28.0          59.0              1.537970   \n",
       "Pluribus               24.0          59.0            -29.129724   \n",
       "\n",
       "          rank_start_stack  any_blind  \n",
       "player                                 \n",
       "Bill                 318.0       26.0  \n",
       "Budd                  96.0       26.0  \n",
       "Eddie                202.0       26.0  \n",
       "Gogo                 419.0       27.0  \n",
       "MrWhite              263.0       27.0  \n",
       "Pluribus             382.0       26.0  "
      ],
      "text/html": "<div>\n<style scoped>\n    .dataframe tbody tr th:only-of-type {\n        vertical-align: middle;\n    }\n\n    .dataframe tbody tr th {\n        vertical-align: top;\n    }\n\n    .dataframe thead th {\n        text-align: right;\n    }\n</style>\n<table border=\"1\" class=\"dataframe\">\n  <thead>\n    <tr style=\"text-align: right;\">\n      <th></th>\n      <th>Unnamed: 0</th>\n      <th>game</th>\n      <th>hand</th>\n      <th>outcome</th>\n      <th>big_blind</th>\n      <th>small_blind</th>\n      <th>premium_hole</th>\n      <th>chen_rank</th>\n      <th>slansky_rank</th>\n      <th>start_stack</th>\n      <th>prev_outcome</th>\n      <th>prev_outcome_loss</th>\n      <th>preflop_fold</th>\n      <th>relative_start_stack</th>\n      <th>rank_start_stack</th>\n      <th>any_blind</th>\n    </tr>\n    <tr>\n      <th>player</th>\n      <th></th>\n      <th></th>\n      <th></th>\n      <th></th>\n      <th></th>\n      <th></th>\n      <th></th>\n      <th></th>\n      <th></th>\n      <th></th>\n      <th></th>\n      <th></th>\n      <th></th>\n      <th></th>\n      <th></th>\n      <th></th>\n    </tr>\n  </thead>\n  <tbody>\n    <tr>\n      <th>Bill</th>\n      <td>688722</td>\n      <td>2370</td>\n      <td>3081</td>\n      <td>-609.0</td>\n      <td>13.0</td>\n      <td>13.0</td>\n      <td>14.0</td>\n      <td>398</td>\n      <td>536</td>\n      <td>-51521.0</td>\n      <td>-609.0</td>\n      <td>26.0</td>\n      <td>49.0</td>\n      <td>-7.382892</td>\n      <td>318.0</td>\n      <td>26.0</td>\n    </tr>\n    <tr>\n      <th>Budd</th>\n      <td>2318492</td>\n      <td>2370</td>\n      <td>3081</td>\n      <td>11600.0</td>\n      <td>13.0</td>\n      <td>13.0</td>\n      <td>4.0</td>\n      <td>306</td>\n      <td>618</td>\n      <td>697250.0</td>\n      <td>11600.0</td>\n      <td>23.0</td>\n      <td>59.0</td>\n      <td>73.733333</td>\n      <td>96.0</td>\n      <td>26.0</td>\n    </tr>\n    <tr>\n      <th>Eddie</th>\n      <td>4040771</td>\n      <td>2370</td>\n      <td>3081</td>\n      <td>4246.0</td>\n      <td>13.0</td>\n      <td>13.0</td>\n      <td>6.0</td>\n      <td>340</td>\n      <td>596</td>\n      <td>108458.0</td>\n      <td>4246.0</td>\n      <td>26.0</td>\n      <td>52.0</td>\n      <td>12.176912</td>\n      <td>202.0</td>\n      <td>26.0</td>\n    </tr>\n    <tr>\n      <th>Gogo</th>\n      <td>4002693</td>\n      <td>2370</td>\n      <td>3081</td>\n      <td>-6612.0</td>\n      <td>14.0</td>\n      <td>13.0</td>\n      <td>6.0</td>\n      <td>285</td>\n      <td>623</td>\n      <td>-385722.0</td>\n      <td>-6512.0</td>\n      <td>28.0</td>\n      <td>57.0</td>\n      <td>-50.935599</td>\n      <td>419.0</td>\n      <td>27.0</td>\n    </tr>\n    <tr>\n      <th>MrWhite</th>\n      <td>1215336</td>\n      <td>2370</td>\n      <td>3081</td>\n      <td>-1462.0</td>\n      <td>13.0</td>\n      <td>14.0</td>\n      <td>6.0</td>\n      <td>276</td>\n      <td>623</td>\n      <td>42663.0</td>\n      <td>-1412.0</td>\n      <td>28.0</td>\n      <td>59.0</td>\n      <td>1.537970</td>\n      <td>263.0</td>\n      <td>27.0</td>\n    </tr>\n    <tr>\n      <th>Pluribus</th>\n      <td>2570186</td>\n      <td>2370</td>\n      <td>3081</td>\n      <td>-7163.0</td>\n      <td>13.0</td>\n      <td>13.0</td>\n      <td>2.0</td>\n      <td>340</td>\n      <td>594</td>\n      <td>-411128.0</td>\n      <td>-7313.0</td>\n      <td>24.0</td>\n      <td>59.0</td>\n      <td>-29.129724</td>\n      <td>382.0</td>\n      <td>26.0</td>\n    </tr>\n  </tbody>\n</table>\n</div>"
     },
     "metadata": {},
     "execution_count": 10
    }
   ],
   "source": [
    "# won this game\n",
    "df30.groupby('player').sum()"
   ]
  },
  {
   "cell_type": "code",
   "execution_count": 11,
   "metadata": {},
   "outputs": [],
   "source": [
    "def win_game(result):\n",
    "    if result>0:\n",
    "        return 1    # win\n",
    "    if result<0:\n",
    "        return 0  # lose"
   ]
  },
  {
   "cell_type": "code",
   "execution_count": 12,
   "metadata": {},
   "outputs": [
    {
     "output_type": "execute_result",
     "data": {
      "text/plain": [
       "player\n",
       "Bill        0\n",
       "Budd        1\n",
       "Eddie       1\n",
       "Gogo        0\n",
       "MrWhite     1\n",
       "Pluribus    0\n",
       "Name: start_stack, dtype: int64"
      ]
     },
     "metadata": {},
     "execution_count": 12
    }
   ],
   "source": [
    "df30.groupby('player').sum()['start_stack'].apply(win_game)"
   ]
  },
  {
   "cell_type": "code",
   "execution_count": null,
   "metadata": {},
   "outputs": [],
   "source": []
  },
  {
   "cell_type": "code",
   "execution_count": null,
   "metadata": {},
   "outputs": [],
   "source": []
  },
  {
   "cell_type": "markdown",
   "metadata": {},
   "source": [
    "### loop"
   ]
  },
  {
   "cell_type": "code",
   "execution_count": 13,
   "metadata": {},
   "outputs": [],
   "source": [
    "data = []\n",
    "# loop people\n",
    "for player in people:\n",
    "  # loop games\n",
    "  for game in games:\n",
    "    # extract df\n",
    "    df_player_game = df[(df['game']==game) & (df['player']==player)]\n",
    "    # get variables\n",
    "    total_hands = df_player_game.shape[0]\n",
    "    total_hands_won = df_player_game[df_player_game['prev_outcome']>0].shape[0]\n",
    "    # create new df\n",
    "    entry = []\n",
    "    if total_hands != 0:  # remove not played \n",
    "        entry.append([player, game, total_hands, total_hands_won])\n",
    "    data.extend(entry)"
   ]
  },
  {
   "cell_type": "code",
   "execution_count": 14,
   "metadata": {},
   "outputs": [],
   "source": [
    "#data"
   ]
  },
  {
   "cell_type": "code",
   "execution_count": 15,
   "metadata": {},
   "outputs": [
    {
     "output_type": "execute_result",
     "data": {
      "text/plain": [
       "  player  game  total_hands  total_hands_won\n",
       "0  Eddie    30           79               16\n",
       "1  Eddie    31           72               14\n",
       "2  Eddie    32           94               16\n",
       "3  Eddie    33           87               12\n",
       "4  Eddie    34           79               12"
      ],
      "text/html": "<div>\n<style scoped>\n    .dataframe tbody tr th:only-of-type {\n        vertical-align: middle;\n    }\n\n    .dataframe tbody tr th {\n        vertical-align: top;\n    }\n\n    .dataframe thead th {\n        text-align: right;\n    }\n</style>\n<table border=\"1\" class=\"dataframe\">\n  <thead>\n    <tr style=\"text-align: right;\">\n      <th></th>\n      <th>player</th>\n      <th>game</th>\n      <th>total_hands</th>\n      <th>total_hands_won</th>\n    </tr>\n  </thead>\n  <tbody>\n    <tr>\n      <th>0</th>\n      <td>Eddie</td>\n      <td>30</td>\n      <td>79</td>\n      <td>16</td>\n    </tr>\n    <tr>\n      <th>1</th>\n      <td>Eddie</td>\n      <td>31</td>\n      <td>72</td>\n      <td>14</td>\n    </tr>\n    <tr>\n      <th>2</th>\n      <td>Eddie</td>\n      <td>32</td>\n      <td>94</td>\n      <td>16</td>\n    </tr>\n    <tr>\n      <th>3</th>\n      <td>Eddie</td>\n      <td>33</td>\n      <td>87</td>\n      <td>12</td>\n    </tr>\n    <tr>\n      <th>4</th>\n      <td>Eddie</td>\n      <td>34</td>\n      <td>79</td>\n      <td>12</td>\n    </tr>\n  </tbody>\n</table>\n</div>"
     },
     "metadata": {},
     "execution_count": 15
    }
   ],
   "source": [
    "DF = pd.DataFrame(data, columns=['player', 'game', 'total_hands', 'total_hands_won'])\n",
    "DF.head()"
   ]
  },
  {
   "cell_type": "code",
   "execution_count": null,
   "metadata": {},
   "outputs": [],
   "source": []
  },
  {
   "cell_type": "code",
   "execution_count": 16,
   "metadata": {},
   "outputs": [
    {
     "output_type": "execute_result",
     "data": {
      "text/plain": [
       "          game  total_hands  total_hands_won\n",
       "player                                      \n",
       "Bill      3330         6666             1167\n",
       "Budd      1565         2486              411\n",
       "Eddie     2610         6131             1061\n",
       "Gogo       195          482               90\n",
       "Hattori    380          700              117\n",
       "Joe        841         1525              223\n",
       "MrBlonde  1361         2545              387\n",
       "MrBlue    4914         8679             1648\n",
       "MrBrown    661         1805              297\n",
       "MrOrange  3702         6036              785\n",
       "MrPink    3544         6675             1116\n",
       "MrWhite   3170         5383              838\n",
       "ORen       302          552               86\n",
       "Pluribus  5315         9933             1672"
      ],
      "text/html": "<div>\n<style scoped>\n    .dataframe tbody tr th:only-of-type {\n        vertical-align: middle;\n    }\n\n    .dataframe tbody tr th {\n        vertical-align: top;\n    }\n\n    .dataframe thead th {\n        text-align: right;\n    }\n</style>\n<table border=\"1\" class=\"dataframe\">\n  <thead>\n    <tr style=\"text-align: right;\">\n      <th></th>\n      <th>game</th>\n      <th>total_hands</th>\n      <th>total_hands_won</th>\n    </tr>\n    <tr>\n      <th>player</th>\n      <th></th>\n      <th></th>\n      <th></th>\n    </tr>\n  </thead>\n  <tbody>\n    <tr>\n      <th>Bill</th>\n      <td>3330</td>\n      <td>6666</td>\n      <td>1167</td>\n    </tr>\n    <tr>\n      <th>Budd</th>\n      <td>1565</td>\n      <td>2486</td>\n      <td>411</td>\n    </tr>\n    <tr>\n      <th>Eddie</th>\n      <td>2610</td>\n      <td>6131</td>\n      <td>1061</td>\n    </tr>\n    <tr>\n      <th>Gogo</th>\n      <td>195</td>\n      <td>482</td>\n      <td>90</td>\n    </tr>\n    <tr>\n      <th>Hattori</th>\n      <td>380</td>\n      <td>700</td>\n      <td>117</td>\n    </tr>\n    <tr>\n      <th>Joe</th>\n      <td>841</td>\n      <td>1525</td>\n      <td>223</td>\n    </tr>\n    <tr>\n      <th>MrBlonde</th>\n      <td>1361</td>\n      <td>2545</td>\n      <td>387</td>\n    </tr>\n    <tr>\n      <th>MrBlue</th>\n      <td>4914</td>\n      <td>8679</td>\n      <td>1648</td>\n    </tr>\n    <tr>\n      <th>MrBrown</th>\n      <td>661</td>\n      <td>1805</td>\n      <td>297</td>\n    </tr>\n    <tr>\n      <th>MrOrange</th>\n      <td>3702</td>\n      <td>6036</td>\n      <td>785</td>\n    </tr>\n    <tr>\n      <th>MrPink</th>\n      <td>3544</td>\n      <td>6675</td>\n      <td>1116</td>\n    </tr>\n    <tr>\n      <th>MrWhite</th>\n      <td>3170</td>\n      <td>5383</td>\n      <td>838</td>\n    </tr>\n    <tr>\n      <th>ORen</th>\n      <td>302</td>\n      <td>552</td>\n      <td>86</td>\n    </tr>\n    <tr>\n      <th>Pluribus</th>\n      <td>5315</td>\n      <td>9933</td>\n      <td>1672</td>\n    </tr>\n  </tbody>\n</table>\n</div>"
     },
     "metadata": {},
     "execution_count": 16
    }
   ],
   "source": [
    "DF.groupby(['player']).sum()"
   ]
  },
  {
   "cell_type": "code",
   "execution_count": 17,
   "metadata": {},
   "outputs": [
    {
     "output_type": "execute_result",
     "data": {
      "text/plain": [
       "          game  total_hands  total_hands_won\n",
       "player                                      \n",
       "Bill        47           47               47\n",
       "Budd        23           23               23\n",
       "Eddie       39           39               39\n",
       "Gogo         6            6                6\n",
       "Hattori      5            5                5\n",
       "Joe         10           10               10\n",
       "MrBlonde    15           15               15\n",
       "MrBlue      57           57               57\n",
       "MrBrown     10           10               10\n",
       "MrOrange    41           41               41\n",
       "MrPink      40           40               40\n",
       "MrWhite     38           38               38\n",
       "ORen         4            4                4\n",
       "Pluribus    67           67               67"
      ],
      "text/html": "<div>\n<style scoped>\n    .dataframe tbody tr th:only-of-type {\n        vertical-align: middle;\n    }\n\n    .dataframe tbody tr th {\n        vertical-align: top;\n    }\n\n    .dataframe thead th {\n        text-align: right;\n    }\n</style>\n<table border=\"1\" class=\"dataframe\">\n  <thead>\n    <tr style=\"text-align: right;\">\n      <th></th>\n      <th>game</th>\n      <th>total_hands</th>\n      <th>total_hands_won</th>\n    </tr>\n    <tr>\n      <th>player</th>\n      <th></th>\n      <th></th>\n      <th></th>\n    </tr>\n  </thead>\n  <tbody>\n    <tr>\n      <th>Bill</th>\n      <td>47</td>\n      <td>47</td>\n      <td>47</td>\n    </tr>\n    <tr>\n      <th>Budd</th>\n      <td>23</td>\n      <td>23</td>\n      <td>23</td>\n    </tr>\n    <tr>\n      <th>Eddie</th>\n      <td>39</td>\n      <td>39</td>\n      <td>39</td>\n    </tr>\n    <tr>\n      <th>Gogo</th>\n      <td>6</td>\n      <td>6</td>\n      <td>6</td>\n    </tr>\n    <tr>\n      <th>Hattori</th>\n      <td>5</td>\n      <td>5</td>\n      <td>5</td>\n    </tr>\n    <tr>\n      <th>Joe</th>\n      <td>10</td>\n      <td>10</td>\n      <td>10</td>\n    </tr>\n    <tr>\n      <th>MrBlonde</th>\n      <td>15</td>\n      <td>15</td>\n      <td>15</td>\n    </tr>\n    <tr>\n      <th>MrBlue</th>\n      <td>57</td>\n      <td>57</td>\n      <td>57</td>\n    </tr>\n    <tr>\n      <th>MrBrown</th>\n      <td>10</td>\n      <td>10</td>\n      <td>10</td>\n    </tr>\n    <tr>\n      <th>MrOrange</th>\n      <td>41</td>\n      <td>41</td>\n      <td>41</td>\n    </tr>\n    <tr>\n      <th>MrPink</th>\n      <td>40</td>\n      <td>40</td>\n      <td>40</td>\n    </tr>\n    <tr>\n      <th>MrWhite</th>\n      <td>38</td>\n      <td>38</td>\n      <td>38</td>\n    </tr>\n    <tr>\n      <th>ORen</th>\n      <td>4</td>\n      <td>4</td>\n      <td>4</td>\n    </tr>\n    <tr>\n      <th>Pluribus</th>\n      <td>67</td>\n      <td>67</td>\n      <td>67</td>\n    </tr>\n  </tbody>\n</table>\n</div>"
     },
     "metadata": {},
     "execution_count": 17
    }
   ],
   "source": [
    "# total games played\n",
    "DF.groupby(['player']).count()"
   ]
  },
  {
   "cell_type": "code",
   "execution_count": null,
   "metadata": {},
   "outputs": [],
   "source": []
  },
  {
   "cell_type": "code",
   "execution_count": 18,
   "metadata": {},
   "outputs": [
    {
     "output_type": "execute_result",
     "data": {
      "text/plain": [
       "player\n",
       "Bill        25\n",
       "Budd        15\n",
       "Eddie       19\n",
       "Gogo         0\n",
       "Hattori      4\n",
       "Joe          2\n",
       "MrBlonde     5\n",
       "MrBlue      37\n",
       "MrBrown      4\n",
       "MrOrange    16\n",
       "MrPink      21\n",
       "MrWhite     17\n",
       "ORen         0\n",
       "Pluribus    30\n",
       "Name: start_stack, dtype: int64"
      ]
     },
     "metadata": {},
     "execution_count": 18
    }
   ],
   "source": [
    "# games won\n",
    "df.groupby(['player','game']).sum()['start_stack'].apply(win_game).groupby('player').sum()"
   ]
  },
  {
   "cell_type": "code",
   "execution_count": null,
   "metadata": {},
   "outputs": [],
   "source": []
  },
  {
   "cell_type": "code",
   "execution_count": 19,
   "metadata": {},
   "outputs": [
    {
     "output_type": "execute_result",
     "data": {
      "text/plain": [
       "          game                                                           \\\n",
       "         count       mean        std   min    25%    50%     75%    max   \n",
       "player                                                                    \n",
       "Bill      47.0  70.851064  26.075958  30.0  47.50   71.0   91.50  118.0   \n",
       "Budd      23.0  68.043478  22.634403  30.0  52.50   75.0   84.50   93.0   \n",
       "Eddie     39.0  66.923077  26.566089  30.0  43.50   63.0   91.50  114.0   \n",
       "Gogo       6.0  32.500000   1.870829  30.0  31.25   32.5   33.75   35.0   \n",
       "Hattori    5.0  76.000000   1.581139  74.0  75.00   76.0   77.00   78.0   \n",
       "Joe       10.0  84.100000  27.930270  60.0  62.25   64.5  115.75  118.0   \n",
       "MrBlonde  15.0  90.733333  24.656111  50.0  76.50  103.0  106.50  110.0   \n",
       "MrBlue    57.0  86.210526  22.163948  40.0  72.00   90.0  104.00  118.0   \n",
       "MrBrown   10.0  66.100000  30.508469  40.0  42.25   44.5  100.75  103.0   \n",
       "MrOrange  41.0  90.292683  19.677708  50.0  76.00   90.0  108.00  118.0   \n",
       "MrPink    40.0  88.600000  25.693260  40.0  63.75   98.5  108.25  118.0   \n",
       "MrWhite   38.0  83.421053  28.077722  30.0  59.25   93.5  104.75  114.0   \n",
       "ORen       4.0  75.500000   1.290994  74.0  74.75   75.5   76.25   77.0   \n",
       "Pluribus  67.0  79.328358  26.539501  30.0  60.50   85.0  101.50  118.0   \n",
       "\n",
       "         total_hands              ...                total_hands_won  \\\n",
       "               count        mean  ...     75%    max           count   \n",
       "player                            ...                                  \n",
       "Bill            47.0  141.829787  ...  169.50  234.0            47.0   \n",
       "Budd            23.0  108.086957  ...  137.50  184.0            23.0   \n",
       "Eddie           39.0  157.205128  ...  192.50  234.0            39.0   \n",
       "Gogo             6.0   80.333333  ...   85.00   94.0             6.0   \n",
       "Hattori          5.0  140.000000  ...  173.00  184.0             5.0   \n",
       "Joe             10.0  152.500000  ...  160.00  170.0            10.0   \n",
       "MrBlonde        15.0  169.666667  ...  200.50  291.0            15.0   \n",
       "MrBlue          57.0  152.263158  ...  177.00  291.0            57.0   \n",
       "MrBrown         10.0  180.500000  ...  219.25  234.0            10.0   \n",
       "MrOrange        41.0  147.219512  ...  192.00  291.0            41.0   \n",
       "MrPink          40.0  166.875000  ...  197.00  291.0            40.0   \n",
       "MrWhite         38.0  141.657895  ...  189.75  291.0            38.0   \n",
       "ORen             4.0  138.000000  ...  175.75  184.0             4.0   \n",
       "Pluribus        67.0  148.253731  ...  181.00  291.0            67.0   \n",
       "\n",
       "                                                                \n",
       "               mean        std   min    25%   50%    75%   max  \n",
       "player                                                          \n",
       "Bill      24.829787   9.961489   7.0  17.00  24.0  29.50  51.0  \n",
       "Budd      17.869565   7.659245   5.0  11.50  18.0  23.50  32.0  \n",
       "Eddie     27.205128   8.829316   3.0  24.00  29.0  33.00  41.0  \n",
       "Gogo      15.000000   2.449490  12.0  13.00  16.0  16.00  18.0  \n",
       "Hattori   23.400000  11.631853   4.0  22.00  27.0  31.00  33.0  \n",
       "Joe       22.300000   5.271517  15.0  18.50  23.0  26.75  28.0  \n",
       "MrBlonde  25.800000  13.235234   5.0  17.00  23.0  33.00  54.0  \n",
       "MrBlue    28.912281  11.597846   3.0  22.00  28.0  38.00  61.0  \n",
       "MrBrown   29.700000   5.716448  19.0  27.75  31.0  32.50  38.0  \n",
       "MrOrange  19.146341   8.498709   2.0  12.00  20.0  25.00  40.0  \n",
       "MrPink    27.900000  10.247701   5.0  22.75  27.0  35.00  50.0  \n",
       "MrWhite   22.052632  12.100809   3.0  12.50  19.0  30.50  45.0  \n",
       "ORen      21.500000  14.387495   0.0  20.25  28.0  29.25  30.0  \n",
       "Pluribus  24.955224  11.216104   0.0  17.00  25.0  32.50  65.0  \n",
       "\n",
       "[14 rows x 24 columns]"
      ],
      "text/html": "<div>\n<style scoped>\n    .dataframe tbody tr th:only-of-type {\n        vertical-align: middle;\n    }\n\n    .dataframe tbody tr th {\n        vertical-align: top;\n    }\n\n    .dataframe thead tr th {\n        text-align: left;\n    }\n\n    .dataframe thead tr:last-of-type th {\n        text-align: right;\n    }\n</style>\n<table border=\"1\" class=\"dataframe\">\n  <thead>\n    <tr>\n      <th></th>\n      <th colspan=\"8\" halign=\"left\">game</th>\n      <th colspan=\"5\" halign=\"left\">total_hands</th>\n      <th colspan=\"8\" halign=\"left\">total_hands_won</th>\n    </tr>\n    <tr>\n      <th></th>\n      <th>count</th>\n      <th>mean</th>\n      <th>std</th>\n      <th>min</th>\n      <th>25%</th>\n      <th>50%</th>\n      <th>75%</th>\n      <th>max</th>\n      <th>count</th>\n      <th>mean</th>\n      <th>...</th>\n      <th>75%</th>\n      <th>max</th>\n      <th>count</th>\n      <th>mean</th>\n      <th>std</th>\n      <th>min</th>\n      <th>25%</th>\n      <th>50%</th>\n      <th>75%</th>\n      <th>max</th>\n    </tr>\n    <tr>\n      <th>player</th>\n      <th></th>\n      <th></th>\n      <th></th>\n      <th></th>\n      <th></th>\n      <th></th>\n      <th></th>\n      <th></th>\n      <th></th>\n      <th></th>\n      <th></th>\n      <th></th>\n      <th></th>\n      <th></th>\n      <th></th>\n      <th></th>\n      <th></th>\n      <th></th>\n      <th></th>\n      <th></th>\n      <th></th>\n    </tr>\n  </thead>\n  <tbody>\n    <tr>\n      <th>Bill</th>\n      <td>47.0</td>\n      <td>70.851064</td>\n      <td>26.075958</td>\n      <td>30.0</td>\n      <td>47.50</td>\n      <td>71.0</td>\n      <td>91.50</td>\n      <td>118.0</td>\n      <td>47.0</td>\n      <td>141.829787</td>\n      <td>...</td>\n      <td>169.50</td>\n      <td>234.0</td>\n      <td>47.0</td>\n      <td>24.829787</td>\n      <td>9.961489</td>\n      <td>7.0</td>\n      <td>17.00</td>\n      <td>24.0</td>\n      <td>29.50</td>\n      <td>51.0</td>\n    </tr>\n    <tr>\n      <th>Budd</th>\n      <td>23.0</td>\n      <td>68.043478</td>\n      <td>22.634403</td>\n      <td>30.0</td>\n      <td>52.50</td>\n      <td>75.0</td>\n      <td>84.50</td>\n      <td>93.0</td>\n      <td>23.0</td>\n      <td>108.086957</td>\n      <td>...</td>\n      <td>137.50</td>\n      <td>184.0</td>\n      <td>23.0</td>\n      <td>17.869565</td>\n      <td>7.659245</td>\n      <td>5.0</td>\n      <td>11.50</td>\n      <td>18.0</td>\n      <td>23.50</td>\n      <td>32.0</td>\n    </tr>\n    <tr>\n      <th>Eddie</th>\n      <td>39.0</td>\n      <td>66.923077</td>\n      <td>26.566089</td>\n      <td>30.0</td>\n      <td>43.50</td>\n      <td>63.0</td>\n      <td>91.50</td>\n      <td>114.0</td>\n      <td>39.0</td>\n      <td>157.205128</td>\n      <td>...</td>\n      <td>192.50</td>\n      <td>234.0</td>\n      <td>39.0</td>\n      <td>27.205128</td>\n      <td>8.829316</td>\n      <td>3.0</td>\n      <td>24.00</td>\n      <td>29.0</td>\n      <td>33.00</td>\n      <td>41.0</td>\n    </tr>\n    <tr>\n      <th>Gogo</th>\n      <td>6.0</td>\n      <td>32.500000</td>\n      <td>1.870829</td>\n      <td>30.0</td>\n      <td>31.25</td>\n      <td>32.5</td>\n      <td>33.75</td>\n      <td>35.0</td>\n      <td>6.0</td>\n      <td>80.333333</td>\n      <td>...</td>\n      <td>85.00</td>\n      <td>94.0</td>\n      <td>6.0</td>\n      <td>15.000000</td>\n      <td>2.449490</td>\n      <td>12.0</td>\n      <td>13.00</td>\n      <td>16.0</td>\n      <td>16.00</td>\n      <td>18.0</td>\n    </tr>\n    <tr>\n      <th>Hattori</th>\n      <td>5.0</td>\n      <td>76.000000</td>\n      <td>1.581139</td>\n      <td>74.0</td>\n      <td>75.00</td>\n      <td>76.0</td>\n      <td>77.00</td>\n      <td>78.0</td>\n      <td>5.0</td>\n      <td>140.000000</td>\n      <td>...</td>\n      <td>173.00</td>\n      <td>184.0</td>\n      <td>5.0</td>\n      <td>23.400000</td>\n      <td>11.631853</td>\n      <td>4.0</td>\n      <td>22.00</td>\n      <td>27.0</td>\n      <td>31.00</td>\n      <td>33.0</td>\n    </tr>\n    <tr>\n      <th>Joe</th>\n      <td>10.0</td>\n      <td>84.100000</td>\n      <td>27.930270</td>\n      <td>60.0</td>\n      <td>62.25</td>\n      <td>64.5</td>\n      <td>115.75</td>\n      <td>118.0</td>\n      <td>10.0</td>\n      <td>152.500000</td>\n      <td>...</td>\n      <td>160.00</td>\n      <td>170.0</td>\n      <td>10.0</td>\n      <td>22.300000</td>\n      <td>5.271517</td>\n      <td>15.0</td>\n      <td>18.50</td>\n      <td>23.0</td>\n      <td>26.75</td>\n      <td>28.0</td>\n    </tr>\n    <tr>\n      <th>MrBlonde</th>\n      <td>15.0</td>\n      <td>90.733333</td>\n      <td>24.656111</td>\n      <td>50.0</td>\n      <td>76.50</td>\n      <td>103.0</td>\n      <td>106.50</td>\n      <td>110.0</td>\n      <td>15.0</td>\n      <td>169.666667</td>\n      <td>...</td>\n      <td>200.50</td>\n      <td>291.0</td>\n      <td>15.0</td>\n      <td>25.800000</td>\n      <td>13.235234</td>\n      <td>5.0</td>\n      <td>17.00</td>\n      <td>23.0</td>\n      <td>33.00</td>\n      <td>54.0</td>\n    </tr>\n    <tr>\n      <th>MrBlue</th>\n      <td>57.0</td>\n      <td>86.210526</td>\n      <td>22.163948</td>\n      <td>40.0</td>\n      <td>72.00</td>\n      <td>90.0</td>\n      <td>104.00</td>\n      <td>118.0</td>\n      <td>57.0</td>\n      <td>152.263158</td>\n      <td>...</td>\n      <td>177.00</td>\n      <td>291.0</td>\n      <td>57.0</td>\n      <td>28.912281</td>\n      <td>11.597846</td>\n      <td>3.0</td>\n      <td>22.00</td>\n      <td>28.0</td>\n      <td>38.00</td>\n      <td>61.0</td>\n    </tr>\n    <tr>\n      <th>MrBrown</th>\n      <td>10.0</td>\n      <td>66.100000</td>\n      <td>30.508469</td>\n      <td>40.0</td>\n      <td>42.25</td>\n      <td>44.5</td>\n      <td>100.75</td>\n      <td>103.0</td>\n      <td>10.0</td>\n      <td>180.500000</td>\n      <td>...</td>\n      <td>219.25</td>\n      <td>234.0</td>\n      <td>10.0</td>\n      <td>29.700000</td>\n      <td>5.716448</td>\n      <td>19.0</td>\n      <td>27.75</td>\n      <td>31.0</td>\n      <td>32.50</td>\n      <td>38.0</td>\n    </tr>\n    <tr>\n      <th>MrOrange</th>\n      <td>41.0</td>\n      <td>90.292683</td>\n      <td>19.677708</td>\n      <td>50.0</td>\n      <td>76.00</td>\n      <td>90.0</td>\n      <td>108.00</td>\n      <td>118.0</td>\n      <td>41.0</td>\n      <td>147.219512</td>\n      <td>...</td>\n      <td>192.00</td>\n      <td>291.0</td>\n      <td>41.0</td>\n      <td>19.146341</td>\n      <td>8.498709</td>\n      <td>2.0</td>\n      <td>12.00</td>\n      <td>20.0</td>\n      <td>25.00</td>\n      <td>40.0</td>\n    </tr>\n    <tr>\n      <th>MrPink</th>\n      <td>40.0</td>\n      <td>88.600000</td>\n      <td>25.693260</td>\n      <td>40.0</td>\n      <td>63.75</td>\n      <td>98.5</td>\n      <td>108.25</td>\n      <td>118.0</td>\n      <td>40.0</td>\n      <td>166.875000</td>\n      <td>...</td>\n      <td>197.00</td>\n      <td>291.0</td>\n      <td>40.0</td>\n      <td>27.900000</td>\n      <td>10.247701</td>\n      <td>5.0</td>\n      <td>22.75</td>\n      <td>27.0</td>\n      <td>35.00</td>\n      <td>50.0</td>\n    </tr>\n    <tr>\n      <th>MrWhite</th>\n      <td>38.0</td>\n      <td>83.421053</td>\n      <td>28.077722</td>\n      <td>30.0</td>\n      <td>59.25</td>\n      <td>93.5</td>\n      <td>104.75</td>\n      <td>114.0</td>\n      <td>38.0</td>\n      <td>141.657895</td>\n      <td>...</td>\n      <td>189.75</td>\n      <td>291.0</td>\n      <td>38.0</td>\n      <td>22.052632</td>\n      <td>12.100809</td>\n      <td>3.0</td>\n      <td>12.50</td>\n      <td>19.0</td>\n      <td>30.50</td>\n      <td>45.0</td>\n    </tr>\n    <tr>\n      <th>ORen</th>\n      <td>4.0</td>\n      <td>75.500000</td>\n      <td>1.290994</td>\n      <td>74.0</td>\n      <td>74.75</td>\n      <td>75.5</td>\n      <td>76.25</td>\n      <td>77.0</td>\n      <td>4.0</td>\n      <td>138.000000</td>\n      <td>...</td>\n      <td>175.75</td>\n      <td>184.0</td>\n      <td>4.0</td>\n      <td>21.500000</td>\n      <td>14.387495</td>\n      <td>0.0</td>\n      <td>20.25</td>\n      <td>28.0</td>\n      <td>29.25</td>\n      <td>30.0</td>\n    </tr>\n    <tr>\n      <th>Pluribus</th>\n      <td>67.0</td>\n      <td>79.328358</td>\n      <td>26.539501</td>\n      <td>30.0</td>\n      <td>60.50</td>\n      <td>85.0</td>\n      <td>101.50</td>\n      <td>118.0</td>\n      <td>67.0</td>\n      <td>148.253731</td>\n      <td>...</td>\n      <td>181.00</td>\n      <td>291.0</td>\n      <td>67.0</td>\n      <td>24.955224</td>\n      <td>11.216104</td>\n      <td>0.0</td>\n      <td>17.00</td>\n      <td>25.0</td>\n      <td>32.50</td>\n      <td>65.0</td>\n    </tr>\n  </tbody>\n</table>\n<p>14 rows × 24 columns</p>\n</div>"
     },
     "metadata": {},
     "execution_count": 19
    }
   ],
   "source": [
    "DF_summary = DF.groupby(['player']).describe()\n",
    "DF_summary"
   ]
  },
  {
   "cell_type": "code",
   "execution_count": 20,
   "metadata": {},
   "outputs": [],
   "source": [
    "#DF_summary.columns"
   ]
  },
  {
   "cell_type": "code",
   "execution_count": null,
   "metadata": {},
   "outputs": [],
   "source": []
  },
  {
   "cell_type": "code",
   "execution_count": 21,
   "metadata": {},
   "outputs": [
    {
     "output_type": "execute_result",
     "data": {
      "text/plain": [
       "         total_hands                      total_hands_won                  \n",
       "                mean    min    50%    max            mean   min   50%   max\n",
       "player                                                                     \n",
       "Bill      141.829787   29.0  148.0  234.0       24.829787   7.0  24.0  51.0\n",
       "Budd      108.086957   22.0  107.0  184.0       17.869565   5.0  18.0  32.0\n",
       "Eddie     157.205128   29.0  166.0  234.0       27.205128   3.0  29.0  41.0\n",
       "Gogo       80.333333   71.0   79.0   94.0       15.000000  12.0  16.0  18.0\n",
       "Hattori   140.000000   22.0  173.0  184.0       23.400000   4.0  27.0  33.0\n",
       "Joe       152.500000  131.0  155.5  170.0       22.300000  15.0  23.0  28.0\n",
       "MrBlonde  169.666667   34.0  183.0  291.0       25.800000   5.0  23.0  54.0\n",
       "MrBlue    152.263158   22.0  158.0  291.0       28.912281   3.0  28.0  61.0\n",
       "MrBrown   180.500000   94.0  180.0  234.0       29.700000  19.0  31.0  38.0\n",
       "MrOrange  147.219512   22.0  148.0  291.0       19.146341   2.0  20.0  40.0\n",
       "MrPink    166.875000   29.0  168.0  291.0       27.900000   5.0  27.0  50.0\n",
       "MrWhite   141.657895   34.0  137.0  291.0       22.052632   3.0  19.0  45.0\n",
       "ORen      138.000000   22.0  173.0  184.0       21.500000   0.0  28.0  30.0\n",
       "Pluribus  148.253731   22.0  157.0  291.0       24.955224   0.0  25.0  65.0"
      ],
      "text/html": "<div>\n<style scoped>\n    .dataframe tbody tr th:only-of-type {\n        vertical-align: middle;\n    }\n\n    .dataframe tbody tr th {\n        vertical-align: top;\n    }\n\n    .dataframe thead tr th {\n        text-align: left;\n    }\n\n    .dataframe thead tr:last-of-type th {\n        text-align: right;\n    }\n</style>\n<table border=\"1\" class=\"dataframe\">\n  <thead>\n    <tr>\n      <th></th>\n      <th colspan=\"4\" halign=\"left\">total_hands</th>\n      <th colspan=\"4\" halign=\"left\">total_hands_won</th>\n    </tr>\n    <tr>\n      <th></th>\n      <th>mean</th>\n      <th>min</th>\n      <th>50%</th>\n      <th>max</th>\n      <th>mean</th>\n      <th>min</th>\n      <th>50%</th>\n      <th>max</th>\n    </tr>\n    <tr>\n      <th>player</th>\n      <th></th>\n      <th></th>\n      <th></th>\n      <th></th>\n      <th></th>\n      <th></th>\n      <th></th>\n      <th></th>\n    </tr>\n  </thead>\n  <tbody>\n    <tr>\n      <th>Bill</th>\n      <td>141.829787</td>\n      <td>29.0</td>\n      <td>148.0</td>\n      <td>234.0</td>\n      <td>24.829787</td>\n      <td>7.0</td>\n      <td>24.0</td>\n      <td>51.0</td>\n    </tr>\n    <tr>\n      <th>Budd</th>\n      <td>108.086957</td>\n      <td>22.0</td>\n      <td>107.0</td>\n      <td>184.0</td>\n      <td>17.869565</td>\n      <td>5.0</td>\n      <td>18.0</td>\n      <td>32.0</td>\n    </tr>\n    <tr>\n      <th>Eddie</th>\n      <td>157.205128</td>\n      <td>29.0</td>\n      <td>166.0</td>\n      <td>234.0</td>\n      <td>27.205128</td>\n      <td>3.0</td>\n      <td>29.0</td>\n      <td>41.0</td>\n    </tr>\n    <tr>\n      <th>Gogo</th>\n      <td>80.333333</td>\n      <td>71.0</td>\n      <td>79.0</td>\n      <td>94.0</td>\n      <td>15.000000</td>\n      <td>12.0</td>\n      <td>16.0</td>\n      <td>18.0</td>\n    </tr>\n    <tr>\n      <th>Hattori</th>\n      <td>140.000000</td>\n      <td>22.0</td>\n      <td>173.0</td>\n      <td>184.0</td>\n      <td>23.400000</td>\n      <td>4.0</td>\n      <td>27.0</td>\n      <td>33.0</td>\n    </tr>\n    <tr>\n      <th>Joe</th>\n      <td>152.500000</td>\n      <td>131.0</td>\n      <td>155.5</td>\n      <td>170.0</td>\n      <td>22.300000</td>\n      <td>15.0</td>\n      <td>23.0</td>\n      <td>28.0</td>\n    </tr>\n    <tr>\n      <th>MrBlonde</th>\n      <td>169.666667</td>\n      <td>34.0</td>\n      <td>183.0</td>\n      <td>291.0</td>\n      <td>25.800000</td>\n      <td>5.0</td>\n      <td>23.0</td>\n      <td>54.0</td>\n    </tr>\n    <tr>\n      <th>MrBlue</th>\n      <td>152.263158</td>\n      <td>22.0</td>\n      <td>158.0</td>\n      <td>291.0</td>\n      <td>28.912281</td>\n      <td>3.0</td>\n      <td>28.0</td>\n      <td>61.0</td>\n    </tr>\n    <tr>\n      <th>MrBrown</th>\n      <td>180.500000</td>\n      <td>94.0</td>\n      <td>180.0</td>\n      <td>234.0</td>\n      <td>29.700000</td>\n      <td>19.0</td>\n      <td>31.0</td>\n      <td>38.0</td>\n    </tr>\n    <tr>\n      <th>MrOrange</th>\n      <td>147.219512</td>\n      <td>22.0</td>\n      <td>148.0</td>\n      <td>291.0</td>\n      <td>19.146341</td>\n      <td>2.0</td>\n      <td>20.0</td>\n      <td>40.0</td>\n    </tr>\n    <tr>\n      <th>MrPink</th>\n      <td>166.875000</td>\n      <td>29.0</td>\n      <td>168.0</td>\n      <td>291.0</td>\n      <td>27.900000</td>\n      <td>5.0</td>\n      <td>27.0</td>\n      <td>50.0</td>\n    </tr>\n    <tr>\n      <th>MrWhite</th>\n      <td>141.657895</td>\n      <td>34.0</td>\n      <td>137.0</td>\n      <td>291.0</td>\n      <td>22.052632</td>\n      <td>3.0</td>\n      <td>19.0</td>\n      <td>45.0</td>\n    </tr>\n    <tr>\n      <th>ORen</th>\n      <td>138.000000</td>\n      <td>22.0</td>\n      <td>173.0</td>\n      <td>184.0</td>\n      <td>21.500000</td>\n      <td>0.0</td>\n      <td>28.0</td>\n      <td>30.0</td>\n    </tr>\n    <tr>\n      <th>Pluribus</th>\n      <td>148.253731</td>\n      <td>22.0</td>\n      <td>157.0</td>\n      <td>291.0</td>\n      <td>24.955224</td>\n      <td>0.0</td>\n      <td>25.0</td>\n      <td>65.0</td>\n    </tr>\n  </tbody>\n</table>\n</div>"
     },
     "metadata": {},
     "execution_count": 21
    }
   ],
   "source": [
    "DF_summary = DF_summary[[(    'total_hands',  'mean'),\n",
    "            (    'total_hands',   'min'),\n",
    "            (    'total_hands',   '50%'),\n",
    "            (    'total_hands',   'max'),\n",
    "            ('total_hands_won',  'mean'),\n",
    "            ('total_hands_won',   'min'),\n",
    "            ('total_hands_won',   '50%'),\n",
    "            ('total_hands_won',   'max')]]\n",
    "DF_summary"
   ]
  },
  {
   "cell_type": "code",
   "execution_count": null,
   "metadata": {},
   "outputs": [],
   "source": []
  },
  {
   "cell_type": "code",
   "execution_count": 22,
   "metadata": {},
   "outputs": [
    {
     "output_type": "execute_result",
     "data": {
      "text/plain": [
       "          game  total_hands  total_hands_won  (total_hands, mean)  \\\n",
       "player                                                              \n",
       "Bill      3330         6666             1167           141.829787   \n",
       "Budd      1565         2486              411           108.086957   \n",
       "Eddie     2610         6131             1061           157.205128   \n",
       "Gogo       195          482               90            80.333333   \n",
       "Hattori    380          700              117           140.000000   \n",
       "Joe        841         1525              223           152.500000   \n",
       "MrBlonde  1361         2545              387           169.666667   \n",
       "MrBlue    4914         8679             1648           152.263158   \n",
       "MrBrown    661         1805              297           180.500000   \n",
       "MrOrange  3702         6036              785           147.219512   \n",
       "MrPink    3544         6675             1116           166.875000   \n",
       "MrWhite   3170         5383              838           141.657895   \n",
       "ORen       302          552               86           138.000000   \n",
       "Pluribus  5315         9933             1672           148.253731   \n",
       "\n",
       "          (total_hands, min)  (total_hands, 50%)  (total_hands, max)  \\\n",
       "player                                                                 \n",
       "Bill                    29.0               148.0               234.0   \n",
       "Budd                    22.0               107.0               184.0   \n",
       "Eddie                   29.0               166.0               234.0   \n",
       "Gogo                    71.0                79.0                94.0   \n",
       "Hattori                 22.0               173.0               184.0   \n",
       "Joe                    131.0               155.5               170.0   \n",
       "MrBlonde                34.0               183.0               291.0   \n",
       "MrBlue                  22.0               158.0               291.0   \n",
       "MrBrown                 94.0               180.0               234.0   \n",
       "MrOrange                22.0               148.0               291.0   \n",
       "MrPink                  29.0               168.0               291.0   \n",
       "MrWhite                 34.0               137.0               291.0   \n",
       "ORen                    22.0               173.0               184.0   \n",
       "Pluribus                22.0               157.0               291.0   \n",
       "\n",
       "          (total_hands_won, mean)  (total_hands_won, min)  \\\n",
       "player                                                      \n",
       "Bill                    24.829787                     7.0   \n",
       "Budd                    17.869565                     5.0   \n",
       "Eddie                   27.205128                     3.0   \n",
       "Gogo                    15.000000                    12.0   \n",
       "Hattori                 23.400000                     4.0   \n",
       "Joe                     22.300000                    15.0   \n",
       "MrBlonde                25.800000                     5.0   \n",
       "MrBlue                  28.912281                     3.0   \n",
       "MrBrown                 29.700000                    19.0   \n",
       "MrOrange                19.146341                     2.0   \n",
       "MrPink                  27.900000                     5.0   \n",
       "MrWhite                 22.052632                     3.0   \n",
       "ORen                    21.500000                     0.0   \n",
       "Pluribus                24.955224                     0.0   \n",
       "\n",
       "          (total_hands_won, 50%)  (total_hands_won, max)  \n",
       "player                                                    \n",
       "Bill                        24.0                    51.0  \n",
       "Budd                        18.0                    32.0  \n",
       "Eddie                       29.0                    41.0  \n",
       "Gogo                        16.0                    18.0  \n",
       "Hattori                     27.0                    33.0  \n",
       "Joe                         23.0                    28.0  \n",
       "MrBlonde                    23.0                    54.0  \n",
       "MrBlue                      28.0                    61.0  \n",
       "MrBrown                     31.0                    38.0  \n",
       "MrOrange                    20.0                    40.0  \n",
       "MrPink                      27.0                    50.0  \n",
       "MrWhite                     19.0                    45.0  \n",
       "ORen                        28.0                    30.0  \n",
       "Pluribus                    25.0                    65.0  "
      ],
      "text/html": "<div>\n<style scoped>\n    .dataframe tbody tr th:only-of-type {\n        vertical-align: middle;\n    }\n\n    .dataframe tbody tr th {\n        vertical-align: top;\n    }\n\n    .dataframe thead th {\n        text-align: right;\n    }\n</style>\n<table border=\"1\" class=\"dataframe\">\n  <thead>\n    <tr style=\"text-align: right;\">\n      <th></th>\n      <th>game</th>\n      <th>total_hands</th>\n      <th>total_hands_won</th>\n      <th>(total_hands, mean)</th>\n      <th>(total_hands, min)</th>\n      <th>(total_hands, 50%)</th>\n      <th>(total_hands, max)</th>\n      <th>(total_hands_won, mean)</th>\n      <th>(total_hands_won, min)</th>\n      <th>(total_hands_won, 50%)</th>\n      <th>(total_hands_won, max)</th>\n    </tr>\n    <tr>\n      <th>player</th>\n      <th></th>\n      <th></th>\n      <th></th>\n      <th></th>\n      <th></th>\n      <th></th>\n      <th></th>\n      <th></th>\n      <th></th>\n      <th></th>\n      <th></th>\n    </tr>\n  </thead>\n  <tbody>\n    <tr>\n      <th>Bill</th>\n      <td>3330</td>\n      <td>6666</td>\n      <td>1167</td>\n      <td>141.829787</td>\n      <td>29.0</td>\n      <td>148.0</td>\n      <td>234.0</td>\n      <td>24.829787</td>\n      <td>7.0</td>\n      <td>24.0</td>\n      <td>51.0</td>\n    </tr>\n    <tr>\n      <th>Budd</th>\n      <td>1565</td>\n      <td>2486</td>\n      <td>411</td>\n      <td>108.086957</td>\n      <td>22.0</td>\n      <td>107.0</td>\n      <td>184.0</td>\n      <td>17.869565</td>\n      <td>5.0</td>\n      <td>18.0</td>\n      <td>32.0</td>\n    </tr>\n    <tr>\n      <th>Eddie</th>\n      <td>2610</td>\n      <td>6131</td>\n      <td>1061</td>\n      <td>157.205128</td>\n      <td>29.0</td>\n      <td>166.0</td>\n      <td>234.0</td>\n      <td>27.205128</td>\n      <td>3.0</td>\n      <td>29.0</td>\n      <td>41.0</td>\n    </tr>\n    <tr>\n      <th>Gogo</th>\n      <td>195</td>\n      <td>482</td>\n      <td>90</td>\n      <td>80.333333</td>\n      <td>71.0</td>\n      <td>79.0</td>\n      <td>94.0</td>\n      <td>15.000000</td>\n      <td>12.0</td>\n      <td>16.0</td>\n      <td>18.0</td>\n    </tr>\n    <tr>\n      <th>Hattori</th>\n      <td>380</td>\n      <td>700</td>\n      <td>117</td>\n      <td>140.000000</td>\n      <td>22.0</td>\n      <td>173.0</td>\n      <td>184.0</td>\n      <td>23.400000</td>\n      <td>4.0</td>\n      <td>27.0</td>\n      <td>33.0</td>\n    </tr>\n    <tr>\n      <th>Joe</th>\n      <td>841</td>\n      <td>1525</td>\n      <td>223</td>\n      <td>152.500000</td>\n      <td>131.0</td>\n      <td>155.5</td>\n      <td>170.0</td>\n      <td>22.300000</td>\n      <td>15.0</td>\n      <td>23.0</td>\n      <td>28.0</td>\n    </tr>\n    <tr>\n      <th>MrBlonde</th>\n      <td>1361</td>\n      <td>2545</td>\n      <td>387</td>\n      <td>169.666667</td>\n      <td>34.0</td>\n      <td>183.0</td>\n      <td>291.0</td>\n      <td>25.800000</td>\n      <td>5.0</td>\n      <td>23.0</td>\n      <td>54.0</td>\n    </tr>\n    <tr>\n      <th>MrBlue</th>\n      <td>4914</td>\n      <td>8679</td>\n      <td>1648</td>\n      <td>152.263158</td>\n      <td>22.0</td>\n      <td>158.0</td>\n      <td>291.0</td>\n      <td>28.912281</td>\n      <td>3.0</td>\n      <td>28.0</td>\n      <td>61.0</td>\n    </tr>\n    <tr>\n      <th>MrBrown</th>\n      <td>661</td>\n      <td>1805</td>\n      <td>297</td>\n      <td>180.500000</td>\n      <td>94.0</td>\n      <td>180.0</td>\n      <td>234.0</td>\n      <td>29.700000</td>\n      <td>19.0</td>\n      <td>31.0</td>\n      <td>38.0</td>\n    </tr>\n    <tr>\n      <th>MrOrange</th>\n      <td>3702</td>\n      <td>6036</td>\n      <td>785</td>\n      <td>147.219512</td>\n      <td>22.0</td>\n      <td>148.0</td>\n      <td>291.0</td>\n      <td>19.146341</td>\n      <td>2.0</td>\n      <td>20.0</td>\n      <td>40.0</td>\n    </tr>\n    <tr>\n      <th>MrPink</th>\n      <td>3544</td>\n      <td>6675</td>\n      <td>1116</td>\n      <td>166.875000</td>\n      <td>29.0</td>\n      <td>168.0</td>\n      <td>291.0</td>\n      <td>27.900000</td>\n      <td>5.0</td>\n      <td>27.0</td>\n      <td>50.0</td>\n    </tr>\n    <tr>\n      <th>MrWhite</th>\n      <td>3170</td>\n      <td>5383</td>\n      <td>838</td>\n      <td>141.657895</td>\n      <td>34.0</td>\n      <td>137.0</td>\n      <td>291.0</td>\n      <td>22.052632</td>\n      <td>3.0</td>\n      <td>19.0</td>\n      <td>45.0</td>\n    </tr>\n    <tr>\n      <th>ORen</th>\n      <td>302</td>\n      <td>552</td>\n      <td>86</td>\n      <td>138.000000</td>\n      <td>22.0</td>\n      <td>173.0</td>\n      <td>184.0</td>\n      <td>21.500000</td>\n      <td>0.0</td>\n      <td>28.0</td>\n      <td>30.0</td>\n    </tr>\n    <tr>\n      <th>Pluribus</th>\n      <td>5315</td>\n      <td>9933</td>\n      <td>1672</td>\n      <td>148.253731</td>\n      <td>22.0</td>\n      <td>157.0</td>\n      <td>291.0</td>\n      <td>24.955224</td>\n      <td>0.0</td>\n      <td>25.0</td>\n      <td>65.0</td>\n    </tr>\n  </tbody>\n</table>\n</div>"
     },
     "metadata": {},
     "execution_count": 22
    }
   ],
   "source": [
    "df_summary = pd.merge(DF.groupby(['player']).sum(), DF_summary, left_index=True, right_index=True)\n",
    "df_summary"
   ]
  },
  {
   "cell_type": "code",
   "execution_count": 23,
   "metadata": {},
   "outputs": [
    {
     "output_type": "execute_result",
     "data": {
      "text/plain": [
       "          game_x  total_hands_x  total_hands_won_x  game_y  total_hands_y  \\\n",
       "player                                                                      \n",
       "Bill          47             47                 47    3330           6666   \n",
       "Budd          23             23                 23    1565           2486   \n",
       "Eddie         39             39                 39    2610           6131   \n",
       "Gogo           6              6                  6     195            482   \n",
       "Hattori        5              5                  5     380            700   \n",
       "Joe           10             10                 10     841           1525   \n",
       "MrBlonde      15             15                 15    1361           2545   \n",
       "MrBlue        57             57                 57    4914           8679   \n",
       "MrBrown       10             10                 10     661           1805   \n",
       "MrOrange      41             41                 41    3702           6036   \n",
       "MrPink        40             40                 40    3544           6675   \n",
       "MrWhite       38             38                 38    3170           5383   \n",
       "ORen           4              4                  4     302            552   \n",
       "Pluribus      67             67                 67    5315           9933   \n",
       "\n",
       "          total_hands_won_y  (total_hands, mean)  (total_hands, min)  \\\n",
       "player                                                                 \n",
       "Bill                   1167           141.829787                29.0   \n",
       "Budd                    411           108.086957                22.0   \n",
       "Eddie                  1061           157.205128                29.0   \n",
       "Gogo                     90            80.333333                71.0   \n",
       "Hattori                 117           140.000000                22.0   \n",
       "Joe                     223           152.500000               131.0   \n",
       "MrBlonde                387           169.666667                34.0   \n",
       "MrBlue                 1648           152.263158                22.0   \n",
       "MrBrown                 297           180.500000                94.0   \n",
       "MrOrange                785           147.219512                22.0   \n",
       "MrPink                 1116           166.875000                29.0   \n",
       "MrWhite                 838           141.657895                34.0   \n",
       "ORen                     86           138.000000                22.0   \n",
       "Pluribus               1672           148.253731                22.0   \n",
       "\n",
       "          (total_hands, 50%)  (total_hands, max)  (total_hands_won, mean)  \\\n",
       "player                                                                      \n",
       "Bill                   148.0               234.0                24.829787   \n",
       "Budd                   107.0               184.0                17.869565   \n",
       "Eddie                  166.0               234.0                27.205128   \n",
       "Gogo                    79.0                94.0                15.000000   \n",
       "Hattori                173.0               184.0                23.400000   \n",
       "Joe                    155.5               170.0                22.300000   \n",
       "MrBlonde               183.0               291.0                25.800000   \n",
       "MrBlue                 158.0               291.0                28.912281   \n",
       "MrBrown                180.0               234.0                29.700000   \n",
       "MrOrange               148.0               291.0                19.146341   \n",
       "MrPink                 168.0               291.0                27.900000   \n",
       "MrWhite                137.0               291.0                22.052632   \n",
       "ORen                   173.0               184.0                21.500000   \n",
       "Pluribus               157.0               291.0                24.955224   \n",
       "\n",
       "          (total_hands_won, min)  (total_hands_won, 50%)  \\\n",
       "player                                                     \n",
       "Bill                         7.0                    24.0   \n",
       "Budd                         5.0                    18.0   \n",
       "Eddie                        3.0                    29.0   \n",
       "Gogo                        12.0                    16.0   \n",
       "Hattori                      4.0                    27.0   \n",
       "Joe                         15.0                    23.0   \n",
       "MrBlonde                     5.0                    23.0   \n",
       "MrBlue                       3.0                    28.0   \n",
       "MrBrown                     19.0                    31.0   \n",
       "MrOrange                     2.0                    20.0   \n",
       "MrPink                       5.0                    27.0   \n",
       "MrWhite                      3.0                    19.0   \n",
       "ORen                         0.0                    28.0   \n",
       "Pluribus                     0.0                    25.0   \n",
       "\n",
       "          (total_hands_won, max)  \n",
       "player                            \n",
       "Bill                        51.0  \n",
       "Budd                        32.0  \n",
       "Eddie                       41.0  \n",
       "Gogo                        18.0  \n",
       "Hattori                     33.0  \n",
       "Joe                         28.0  \n",
       "MrBlonde                    54.0  \n",
       "MrBlue                      61.0  \n",
       "MrBrown                     38.0  \n",
       "MrOrange                    40.0  \n",
       "MrPink                      50.0  \n",
       "MrWhite                     45.0  \n",
       "ORen                        30.0  \n",
       "Pluribus                    65.0  "
      ],
      "text/html": "<div>\n<style scoped>\n    .dataframe tbody tr th:only-of-type {\n        vertical-align: middle;\n    }\n\n    .dataframe tbody tr th {\n        vertical-align: top;\n    }\n\n    .dataframe thead th {\n        text-align: right;\n    }\n</style>\n<table border=\"1\" class=\"dataframe\">\n  <thead>\n    <tr style=\"text-align: right;\">\n      <th></th>\n      <th>game_x</th>\n      <th>total_hands_x</th>\n      <th>total_hands_won_x</th>\n      <th>game_y</th>\n      <th>total_hands_y</th>\n      <th>total_hands_won_y</th>\n      <th>(total_hands, mean)</th>\n      <th>(total_hands, min)</th>\n      <th>(total_hands, 50%)</th>\n      <th>(total_hands, max)</th>\n      <th>(total_hands_won, mean)</th>\n      <th>(total_hands_won, min)</th>\n      <th>(total_hands_won, 50%)</th>\n      <th>(total_hands_won, max)</th>\n    </tr>\n    <tr>\n      <th>player</th>\n      <th></th>\n      <th></th>\n      <th></th>\n      <th></th>\n      <th></th>\n      <th></th>\n      <th></th>\n      <th></th>\n      <th></th>\n      <th></th>\n      <th></th>\n      <th></th>\n      <th></th>\n      <th></th>\n    </tr>\n  </thead>\n  <tbody>\n    <tr>\n      <th>Bill</th>\n      <td>47</td>\n      <td>47</td>\n      <td>47</td>\n      <td>3330</td>\n      <td>6666</td>\n      <td>1167</td>\n      <td>141.829787</td>\n      <td>29.0</td>\n      <td>148.0</td>\n      <td>234.0</td>\n      <td>24.829787</td>\n      <td>7.0</td>\n      <td>24.0</td>\n      <td>51.0</td>\n    </tr>\n    <tr>\n      <th>Budd</th>\n      <td>23</td>\n      <td>23</td>\n      <td>23</td>\n      <td>1565</td>\n      <td>2486</td>\n      <td>411</td>\n      <td>108.086957</td>\n      <td>22.0</td>\n      <td>107.0</td>\n      <td>184.0</td>\n      <td>17.869565</td>\n      <td>5.0</td>\n      <td>18.0</td>\n      <td>32.0</td>\n    </tr>\n    <tr>\n      <th>Eddie</th>\n      <td>39</td>\n      <td>39</td>\n      <td>39</td>\n      <td>2610</td>\n      <td>6131</td>\n      <td>1061</td>\n      <td>157.205128</td>\n      <td>29.0</td>\n      <td>166.0</td>\n      <td>234.0</td>\n      <td>27.205128</td>\n      <td>3.0</td>\n      <td>29.0</td>\n      <td>41.0</td>\n    </tr>\n    <tr>\n      <th>Gogo</th>\n      <td>6</td>\n      <td>6</td>\n      <td>6</td>\n      <td>195</td>\n      <td>482</td>\n      <td>90</td>\n      <td>80.333333</td>\n      <td>71.0</td>\n      <td>79.0</td>\n      <td>94.0</td>\n      <td>15.000000</td>\n      <td>12.0</td>\n      <td>16.0</td>\n      <td>18.0</td>\n    </tr>\n    <tr>\n      <th>Hattori</th>\n      <td>5</td>\n      <td>5</td>\n      <td>5</td>\n      <td>380</td>\n      <td>700</td>\n      <td>117</td>\n      <td>140.000000</td>\n      <td>22.0</td>\n      <td>173.0</td>\n      <td>184.0</td>\n      <td>23.400000</td>\n      <td>4.0</td>\n      <td>27.0</td>\n      <td>33.0</td>\n    </tr>\n    <tr>\n      <th>Joe</th>\n      <td>10</td>\n      <td>10</td>\n      <td>10</td>\n      <td>841</td>\n      <td>1525</td>\n      <td>223</td>\n      <td>152.500000</td>\n      <td>131.0</td>\n      <td>155.5</td>\n      <td>170.0</td>\n      <td>22.300000</td>\n      <td>15.0</td>\n      <td>23.0</td>\n      <td>28.0</td>\n    </tr>\n    <tr>\n      <th>MrBlonde</th>\n      <td>15</td>\n      <td>15</td>\n      <td>15</td>\n      <td>1361</td>\n      <td>2545</td>\n      <td>387</td>\n      <td>169.666667</td>\n      <td>34.0</td>\n      <td>183.0</td>\n      <td>291.0</td>\n      <td>25.800000</td>\n      <td>5.0</td>\n      <td>23.0</td>\n      <td>54.0</td>\n    </tr>\n    <tr>\n      <th>MrBlue</th>\n      <td>57</td>\n      <td>57</td>\n      <td>57</td>\n      <td>4914</td>\n      <td>8679</td>\n      <td>1648</td>\n      <td>152.263158</td>\n      <td>22.0</td>\n      <td>158.0</td>\n      <td>291.0</td>\n      <td>28.912281</td>\n      <td>3.0</td>\n      <td>28.0</td>\n      <td>61.0</td>\n    </tr>\n    <tr>\n      <th>MrBrown</th>\n      <td>10</td>\n      <td>10</td>\n      <td>10</td>\n      <td>661</td>\n      <td>1805</td>\n      <td>297</td>\n      <td>180.500000</td>\n      <td>94.0</td>\n      <td>180.0</td>\n      <td>234.0</td>\n      <td>29.700000</td>\n      <td>19.0</td>\n      <td>31.0</td>\n      <td>38.0</td>\n    </tr>\n    <tr>\n      <th>MrOrange</th>\n      <td>41</td>\n      <td>41</td>\n      <td>41</td>\n      <td>3702</td>\n      <td>6036</td>\n      <td>785</td>\n      <td>147.219512</td>\n      <td>22.0</td>\n      <td>148.0</td>\n      <td>291.0</td>\n      <td>19.146341</td>\n      <td>2.0</td>\n      <td>20.0</td>\n      <td>40.0</td>\n    </tr>\n    <tr>\n      <th>MrPink</th>\n      <td>40</td>\n      <td>40</td>\n      <td>40</td>\n      <td>3544</td>\n      <td>6675</td>\n      <td>1116</td>\n      <td>166.875000</td>\n      <td>29.0</td>\n      <td>168.0</td>\n      <td>291.0</td>\n      <td>27.900000</td>\n      <td>5.0</td>\n      <td>27.0</td>\n      <td>50.0</td>\n    </tr>\n    <tr>\n      <th>MrWhite</th>\n      <td>38</td>\n      <td>38</td>\n      <td>38</td>\n      <td>3170</td>\n      <td>5383</td>\n      <td>838</td>\n      <td>141.657895</td>\n      <td>34.0</td>\n      <td>137.0</td>\n      <td>291.0</td>\n      <td>22.052632</td>\n      <td>3.0</td>\n      <td>19.0</td>\n      <td>45.0</td>\n    </tr>\n    <tr>\n      <th>ORen</th>\n      <td>4</td>\n      <td>4</td>\n      <td>4</td>\n      <td>302</td>\n      <td>552</td>\n      <td>86</td>\n      <td>138.000000</td>\n      <td>22.0</td>\n      <td>173.0</td>\n      <td>184.0</td>\n      <td>21.500000</td>\n      <td>0.0</td>\n      <td>28.0</td>\n      <td>30.0</td>\n    </tr>\n    <tr>\n      <th>Pluribus</th>\n      <td>67</td>\n      <td>67</td>\n      <td>67</td>\n      <td>5315</td>\n      <td>9933</td>\n      <td>1672</td>\n      <td>148.253731</td>\n      <td>22.0</td>\n      <td>157.0</td>\n      <td>291.0</td>\n      <td>24.955224</td>\n      <td>0.0</td>\n      <td>25.0</td>\n      <td>65.0</td>\n    </tr>\n  </tbody>\n</table>\n</div>"
     },
     "metadata": {},
     "execution_count": 23
    }
   ],
   "source": [
    "df_summary = pd.merge(DF.groupby(['player']).count(), df_summary, left_index=True, right_index=True)\n",
    "df_summary"
   ]
  },
  {
   "cell_type": "code",
   "execution_count": null,
   "metadata": {},
   "outputs": [],
   "source": []
  },
  {
   "cell_type": "code",
   "execution_count": 24,
   "metadata": {},
   "outputs": [],
   "source": [
    "df_summary.to_csv('df_summary.csv')"
   ]
  },
  {
   "cell_type": "code",
   "execution_count": null,
   "metadata": {},
   "outputs": [],
   "source": []
  }
 ],
 "metadata": {
  "kernelspec": {
   "display_name": "Python 3.8.1 64-bit",
   "language": "python",
   "name": "python38164bit0209044da7c742dab8314e0953beb93b"
  },
  "language_info": {
   "codemirror_mode": {
    "name": "ipython",
    "version": 3
   },
   "file_extension": ".py",
   "mimetype": "text/x-python",
   "name": "python",
   "nbconvert_exporter": "python",
   "pygments_lexer": "ipython3",
   "version": "3.8.1-final"
  }
 },
 "nbformat": 4,
 "nbformat_minor": 4
}