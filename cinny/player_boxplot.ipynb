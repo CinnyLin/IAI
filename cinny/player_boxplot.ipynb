{
 "cells": [
  {
   "cell_type": "markdown",
   "metadata": {},
   "source": [
    "# Player Boxplots\n",
    "Create boxplots by player for total_hands, total_hands_won, and hands_won_percentage"
   ]
  },
  {
   "cell_type": "code",
   "execution_count": null,
   "metadata": {},
   "outputs": [],
   "source": []
  },
  {
   "cell_type": "markdown",
   "metadata": {},
   "source": [
    "### import library"
   ]
  },
  {
   "cell_type": "code",
   "execution_count": 1,
   "metadata": {},
   "outputs": [],
   "source": [
    "import pandas as pd\n",
    "import numpy as np\n",
    "import matplotlib.pyplot as plt"
   ]
  },
  {
   "cell_type": "code",
   "execution_count": null,
   "metadata": {},
   "outputs": [],
   "source": []
  },
  {
   "cell_type": "markdown",
   "metadata": {},
   "source": [
    "### import data"
   ]
  },
  {
   "cell_type": "code",
   "execution_count": 2,
   "metadata": {},
   "outputs": [
    {
     "data": {
      "text/html": [
       "<div>\n",
       "<style scoped>\n",
       "    .dataframe tbody tr th:only-of-type {\n",
       "        vertical-align: middle;\n",
       "    }\n",
       "\n",
       "    .dataframe tbody tr th {\n",
       "        vertical-align: top;\n",
       "    }\n",
       "\n",
       "    .dataframe thead th {\n",
       "        text-align: right;\n",
       "    }\n",
       "</style>\n",
       "<table border=\"1\" class=\"dataframe\">\n",
       "  <thead>\n",
       "    <tr style=\"text-align: right;\">\n",
       "      <th></th>\n",
       "      <th>player</th>\n",
       "      <th>total_games</th>\n",
       "      <th>total_hands</th>\n",
       "      <th>total_hands_won</th>\n",
       "      <th>total_games_won</th>\n",
       "      <th>hands_mean</th>\n",
       "      <th>hands_min</th>\n",
       "      <th>hands_25%</th>\n",
       "      <th>hands_50%</th>\n",
       "      <th>hands_75%</th>\n",
       "      <th>hands_max</th>\n",
       "      <th>hands_won_mean</th>\n",
       "      <th>hands_won_min</th>\n",
       "      <th>hands_won_25%</th>\n",
       "      <th>hands_won_50%</th>\n",
       "      <th>hands_won_75%</th>\n",
       "      <th>hands_won_max</th>\n",
       "    </tr>\n",
       "  </thead>\n",
       "  <tbody>\n",
       "    <tr>\n",
       "      <th>0</th>\n",
       "      <td>Bill</td>\n",
       "      <td>47</td>\n",
       "      <td>6666</td>\n",
       "      <td>1167</td>\n",
       "      <td>25</td>\n",
       "      <td>141.829787</td>\n",
       "      <td>29.0</td>\n",
       "      <td>113.5</td>\n",
       "      <td>148.0</td>\n",
       "      <td>169.5</td>\n",
       "      <td>234.0</td>\n",
       "      <td>24.829787</td>\n",
       "      <td>7.0</td>\n",
       "      <td>17.0</td>\n",
       "      <td>24.0</td>\n",
       "      <td>29.5</td>\n",
       "      <td>51.0</td>\n",
       "    </tr>\n",
       "  </tbody>\n",
       "</table>\n",
       "</div>"
      ],
      "text/plain": [
       "  player  total_games  total_hands  total_hands_won  total_games_won  \\\n",
       "0   Bill           47         6666             1167               25   \n",
       "\n",
       "   hands_mean  hands_min  hands_25%  hands_50%  hands_75%  hands_max  \\\n",
       "0  141.829787       29.0      113.5      148.0      169.5      234.0   \n",
       "\n",
       "   hands_won_mean  hands_won_min  hands_won_25%  hands_won_50%  hands_won_75%  \\\n",
       "0       24.829787            7.0           17.0           24.0           29.5   \n",
       "\n",
       "   hands_won_max  \n",
       "0           51.0  "
      ]
     },
     "execution_count": 2,
     "metadata": {},
     "output_type": "execute_result"
    }
   ],
   "source": [
    "df = pd.read_csv('df_summary.csv')\n",
    "df.head(1)"
   ]
  },
  {
   "cell_type": "code",
   "execution_count": 3,
   "metadata": {},
   "outputs": [
    {
     "data": {
      "text/html": [
       "<div>\n",
       "<style scoped>\n",
       "    .dataframe tbody tr th:only-of-type {\n",
       "        vertical-align: middle;\n",
       "    }\n",
       "\n",
       "    .dataframe tbody tr th {\n",
       "        vertical-align: top;\n",
       "    }\n",
       "\n",
       "    .dataframe thead th {\n",
       "        text-align: right;\n",
       "    }\n",
       "</style>\n",
       "<table border=\"1\" class=\"dataframe\">\n",
       "  <thead>\n",
       "    <tr style=\"text-align: right;\">\n",
       "      <th></th>\n",
       "      <th>player</th>\n",
       "      <th>game</th>\n",
       "      <th>total_hands</th>\n",
       "      <th>total_hands_won</th>\n",
       "    </tr>\n",
       "  </thead>\n",
       "  <tbody>\n",
       "    <tr>\n",
       "      <th>0</th>\n",
       "      <td>Eddie</td>\n",
       "      <td>30</td>\n",
       "      <td>79</td>\n",
       "      <td>16</td>\n",
       "    </tr>\n",
       "  </tbody>\n",
       "</table>\n",
       "</div>"
      ],
      "text/plain": [
       "  player  game  total_hands  total_hands_won\n",
       "0  Eddie    30           79               16"
      ]
     },
     "execution_count": 3,
     "metadata": {},
     "output_type": "execute_result"
    }
   ],
   "source": [
    "df_raw = pd.read_csv('total_hands_summary.csv', index_col=0)\n",
    "df_raw.head(1)"
   ]
  },
  {
   "cell_type": "code",
   "execution_count": 4,
   "metadata": {},
   "outputs": [],
   "source": [
    "#df_raw.groupby('player').describe()"
   ]
  },
  {
   "cell_type": "code",
   "execution_count": null,
   "metadata": {},
   "outputs": [],
   "source": []
  },
  {
   "cell_type": "markdown",
   "metadata": {},
   "source": [
    "### explore"
   ]
  },
  {
   "cell_type": "markdown",
   "metadata": {},
   "source": [
    "Need to use raw data, because cleaned summary data is not enough for boxplot and it makes min/max outliers."
   ]
  },
  {
   "cell_type": "code",
   "execution_count": 5,
   "metadata": {},
   "outputs": [
    {
     "data": {
      "text/html": [
       "<div>\n",
       "<style scoped>\n",
       "    .dataframe tbody tr th:only-of-type {\n",
       "        vertical-align: middle;\n",
       "    }\n",
       "\n",
       "    .dataframe tbody tr th {\n",
       "        vertical-align: top;\n",
       "    }\n",
       "\n",
       "    .dataframe thead th {\n",
       "        text-align: right;\n",
       "    }\n",
       "</style>\n",
       "<table border=\"1\" class=\"dataframe\">\n",
       "  <thead>\n",
       "    <tr style=\"text-align: right;\">\n",
       "      <th></th>\n",
       "      <th>player</th>\n",
       "      <th>game</th>\n",
       "      <th>total_hands</th>\n",
       "      <th>total_hands_won</th>\n",
       "    </tr>\n",
       "  </thead>\n",
       "  <tbody>\n",
       "    <tr>\n",
       "      <th>0</th>\n",
       "      <td>Eddie</td>\n",
       "      <td>30</td>\n",
       "      <td>79</td>\n",
       "      <td>16</td>\n",
       "    </tr>\n",
       "    <tr>\n",
       "      <th>1</th>\n",
       "      <td>Eddie</td>\n",
       "      <td>31</td>\n",
       "      <td>72</td>\n",
       "      <td>14</td>\n",
       "    </tr>\n",
       "    <tr>\n",
       "      <th>2</th>\n",
       "      <td>Eddie</td>\n",
       "      <td>32</td>\n",
       "      <td>94</td>\n",
       "      <td>16</td>\n",
       "    </tr>\n",
       "    <tr>\n",
       "      <th>3</th>\n",
       "      <td>Eddie</td>\n",
       "      <td>33</td>\n",
       "      <td>87</td>\n",
       "      <td>12</td>\n",
       "    </tr>\n",
       "    <tr>\n",
       "      <th>4</th>\n",
       "      <td>Eddie</td>\n",
       "      <td>34</td>\n",
       "      <td>79</td>\n",
       "      <td>12</td>\n",
       "    </tr>\n",
       "  </tbody>\n",
       "</table>\n",
       "</div>"
      ],
      "text/plain": [
       "  player  game  total_hands  total_hands_won\n",
       "0  Eddie    30           79               16\n",
       "1  Eddie    31           72               14\n",
       "2  Eddie    32           94               16\n",
       "3  Eddie    33           87               12\n",
       "4  Eddie    34           79               12"
      ]
     },
     "execution_count": 5,
     "metadata": {},
     "output_type": "execute_result"
    }
   ],
   "source": [
    "df_Eddie = df_raw[df_raw['player']=='Eddie']\n",
    "df_Eddie.head()"
   ]
  },
  {
   "cell_type": "code",
   "execution_count": 6,
   "metadata": {},
   "outputs": [
    {
     "data": {
      "text/plain": [
       "{'whiskers': [<matplotlib.lines.Line2D at 0x118ef9970>,\n",
       "  <matplotlib.lines.Line2D at 0x118f190a0>],\n",
       " 'caps': [<matplotlib.lines.Line2D at 0x118f193d0>,\n",
       "  <matplotlib.lines.Line2D at 0x118f19700>],\n",
       " 'boxes': [<matplotlib.lines.Line2D at 0x118ef99d0>],\n",
       " 'medians': [<matplotlib.lines.Line2D at 0x118f19a30>],\n",
       " 'fliers': [<matplotlib.lines.Line2D at 0x118ef98b0>],\n",
       " 'means': []}"
      ]
     },
     "execution_count": 6,
     "metadata": {},
     "output_type": "execute_result"
    },
    {
     "data": {
      "image/png": "[encoded data removed]",
      "text/plain": [
       "<Figure size 432x288 with 1 Axes>"
      ]
     },
     "metadata": {
      "needs_background": "light"
     },
     "output_type": "display_data"
    }
   ],
   "source": [
    "plt.boxplot(df_Eddie['total_hands'])"
   ]
  },
  {
   "cell_type": "code",
   "execution_count": null,
   "metadata": {},
   "outputs": [],
   "source": []
  },
  {
   "cell_type": "code",
   "execution_count": 7,
   "metadata": {},
   "outputs": [],
   "source": [
    "# sorted by total games played (as in doc)\n",
    "players = ['Pluribus', 'ORen', 'MrWhite', 'MrPink', 'MrOrange', 'MrBrown', 'MrBlue',\n",
    "          'MrBlonde', 'Joe', 'Gogo', 'Hattori', 'Eddie', 'Budd', 'Bill']"
   ]
  },
  {
   "cell_type": "markdown",
   "metadata": {},
   "source": [
    "### plot total_hands"
   ]
  },
  {
   "cell_type": "code",
   "execution_count": 8,
   "metadata": {},
   "outputs": [],
   "source": [
    "total_hands_data = []\n",
    "for player in players:\n",
    "    df_player = df_raw[df_raw['player']==player]\n",
    "    total_hands_data.append(df_player['total_hands'])"
   ]
  },
  {
   "cell_type": "code",
   "execution_count": 9,
   "metadata": {},
   "outputs": [
    {
     "data": {
      "text/plain": [
       "Text(0.5, 1.0, 'Total Hands per Game by Players')"
      ]
     },
     "execution_count": 9,
     "metadata": {},
     "output_type": "execute_result"
    },
    {
     "data": {
      "image/png": "[encoded data removed]",
      "text/plain": [
       "<Figure size 1440x1080 with 1 Axes>"
      ]
     },
     "metadata": {
      "needs_background": "light"
     },
     "output_type": "display_data"
    }
   ],
   "source": [
    "plt.figure(figsize=(20,15))\n",
    "plt.boxplot(total_hands_data)\n",
    "plt.xticks(np.arange(1,15),players)\n",
    "plt.title('Total Hands per Game by Players')\n",
    "#plt.savefig(f'player_boxplot/total_hands.png')"
   ]
  },
  {
   "cell_type": "code",
   "execution_count": null,
   "metadata": {},
   "outputs": [],
   "source": []
  },
  {
   "cell_type": "markdown",
   "metadata": {},
   "source": [
    "### plot total_hands_won"
   ]
  },
  {
   "cell_type": "code",
   "execution_count": 10,
   "metadata": {},
   "outputs": [],
   "source": [
    "total_hands_won_data = []\n",
    "for player in players:\n",
    "    df_player = df_raw[df_raw['player']==player]\n",
    "    total_hands_won_data.append(df_player['total_hands_won'])"
   ]
  },
  {
   "cell_type": "code",
   "execution_count": 11,
   "metadata": {},
   "outputs": [
    {
     "data": {
      "text/plain": [
       "Text(0.5, 1.0, 'Total Hands Won per Game by Players')"
      ]
     },
     "execution_count": 11,
     "metadata": {},
     "output_type": "execute_result"
    },
    {
     "data": {
      "image/png": "[encoded data removed]",
      "text/plain": [
       "<Figure size 1440x1080 with 1 Axes>"
      ]
     },
     "metadata": {
      "needs_background": "light"
     },
     "output_type": "display_data"
    }
   ],
   "source": [
    "plt.figure(figsize=(20,15))\n",
    "plt.boxplot(total_hands_won_data)\n",
    "plt.xticks(np.arange(1,15),players)\n",
    "plt.title('Total Hands Won per Game by Players')\n",
    "#plt.savefig(f'player_boxplot/total_hands_won.png')"
   ]
  },
  {
   "cell_type": "code",
   "execution_count": null,
   "metadata": {},
   "outputs": [],
   "source": []
  },
  {
   "cell_type": "markdown",
   "metadata": {},
   "source": [
    "### plot hands_won_percentage"
   ]
  },
  {
   "cell_type": "code",
   "execution_count": 12,
   "metadata": {},
   "outputs": [],
   "source": [
    "hands_won_percentage_data = []\n",
    "for player in players:\n",
    "    df_player = df_raw[df_raw['player']==player]\n",
    "    hands_won_percentage_data.append(df_player['total_hands_won']/df_player['total_hands'])"
   ]
  },
  {
   "cell_type": "code",
   "execution_count": 13,
   "metadata": {},
   "outputs": [
    {
     "data": {
      "image/png": "[encoded data removed]",
      "text/plain": [
       "<Figure size 1440x1080 with 1 Axes>"
      ]
     },
     "metadata": {
      "needs_background": "light"
     },
     "output_type": "display_data"
    }
   ],
   "source": [
    "plt.figure(figsize=(20,15))\n",
    "plt.boxplot(hands_won_percentage_data)\n",
    "plt.xticks(np.arange(1,15),players)\n",
    "plt.axhline(y=1/6, c='r', label='average total hands won (%)')\n",
    "plt.legend()\n",
    "plt.title('Total Hands Won (%) per Game by Players')\n",
    "plt.savefig(f'player_boxplot/hands_won_percent.png')"
   ]
  },
  {
   "cell_type": "code",
   "execution_count": null,
   "metadata": {},
   "outputs": [],
   "source": []
  }
 ],
 "metadata": {
  "kernelspec": {
   "display_name": "Python 3.8.1 64-bit",
   "language": "python",
   "name": "python38164bit0209044da7c742dab8314e0953beb93b"
  },
  "language_info": {
   "codemirror_mode": {
    "name": "ipython",
    "version": 3
   },
   "file_extension": ".py",
   "mimetype": "text/x-python",
   "name": "python",
   "nbconvert_exporter": "python",
   "pygments_lexer": "ipython3",
   "version": "3.8.1"
  }
 },
 "nbformat": 4,
 "nbformat_minor": 4
}
